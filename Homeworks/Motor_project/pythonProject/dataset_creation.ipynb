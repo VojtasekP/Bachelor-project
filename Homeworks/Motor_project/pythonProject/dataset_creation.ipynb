{
 "cells": [
  {
   "cell_type": "code",
   "execution_count": 1,
   "id": "9cd1d0a0-f846-4bfa-9da2-dd6534468ec0",
   "metadata": {},
   "outputs": [],
   "source": [
    "import numpy as np\n",
    "import matplotlib.pyplot as plt\n",
    "from pathlib import Path\n",
    "from torch.utils.data import DataLoader\n",
    "from torch.utils.data import Dataset\n",
    "from torch.utils.data import random_split\n",
    "import torch\n",
    "import scipy.io.wavfile as wavfile\n",
    "import random \n",
    "from itertools import chain"
   ]
  },
  {
   "cell_type": "code",
   "execution_count": 6,
   "id": "46320de8-13e9-479b-8780-0e40f2749c3b",
   "metadata": {},
   "outputs": [],
   "source": [
    "cuda0 = torch.device(\"cuda:0\")"
   ]
  },
  {
   "cell_type": "code",
   "execution_count": 11,
   "id": "11a10dbc-ab83-445d-988a-daeec1f0c2c0",
   "metadata": {},
   "outputs": [],
   "source": [
    "class Dictlist(dict):\n",
    "    def __setitem__(self, key, value):\n",
    "        try:\n",
    "            self[key]\n",
    "        except KeyError:\n",
    "            super(Dictlist, self).__setitem__(key, [])\n",
    "            \n",
    "        self[key].append(value)"
   ]
  },
  {
   "cell_type": "code",
   "execution_count": 36,
   "id": "7db712d8-fe14-400e-8eb7-9ba7276a4879",
   "metadata": {},
   "outputs": [],
   "source": [
    "d = {}\n",
    "d[\"test\"] = (1,2,3)\n",
    "d[\"test\"] = 2\n",
    "d[\"test\"] = 2\n",
    "d[\"ahoj\"] = 3"
   ]
  },
  {
   "cell_type": "code",
   "execution_count": 39,
   "id": "d1606d75-02e5-4332-b1d7-0058be7e18af",
   "metadata": {},
   "outputs": [
    {
     "data": {
      "text/plain": [
       "[2, 3]"
      ]
     },
     "execution_count": 39,
     "metadata": {},
     "output_type": "execute_result"
    }
   ],
   "source": [
    "list(d.values())"
   ]
  },
  {
   "cell_type": "code",
   "execution_count": 30,
   "id": "1f2a41c6-7dea-4d84-93b7-d3b63b904089",
   "metadata": {},
   "outputs": [],
   "source": [
    "x = np.arange(1201, dtype=np.int32, step=10)"
   ]
  },
  {
   "cell_type": "code",
   "execution_count": 14,
   "id": "1916bf72-e4a7-4fbf-863c-07eba7f8df88",
   "metadata": {},
   "outputs": [],
   "source": [
    "def find_index(idx, list_of_dict: list[dict]):\n",
    "    length = len(list_of_dict)\n",
    "    for i in range(length):\n",
    "        if len(list(list_of_dict[i].values())) <= idx:\n",
    "            return list(list_of_dict[i].values())[idx-1]\n",
    "        idx -= len(list(list_of_dict[i].values()))\n",
    "        "
   ]
  },
  {
   "cell_type": "code",
   "execution_count": 10,
   "id": "9a90b59a-bfa4-4d71-b7b9-27144b233178",
   "metadata": {},
   "outputs": [],
   "source": [
    "example_list = [\n",
    "    {2: [2,3,4]},\n",
    "    {4: [1,1,1,1]},\n",
    "    {1: [3]},\n",
    "    {2: [2,3,4,4,4,1]},\n",
    "    {1: [1,1,1,1,1,1]},\n",
    "]"
   ]
  },
  {
   "cell_type": "code",
   "execution_count": 125,
   "id": "71157a77-cf07-47a7-b9db-55879bc0a48f",
   "metadata": {},
   "outputs": [
    {
     "name": "stdout",
     "output_type": "stream",
     "text": [
      "Index 0: Position in dict: 0, Label: 2, Value: 2\n",
      "Index 7: Position in dict: 2, Label: 1, Value: 3\n",
      "Index 19: Position in dict: 4, Label: 1, Value: 1\n"
     ]
    }
   ],
   "source": [
    "example_list = [\n",
    "    {2: np.array([2,3,4])},\n",
    "    {4: np.array([1,1,1,1])},\n",
    "    {1: np.array([3])},\n",
    "    {2: np.array([2,3,4,4,4,1])},\n",
    "    {1: np.array([1,1,1,1,1,1])},\n",
    "]\n",
    "\n",
    "# Flatten the list of lists\n",
    "flattened_list = [(index, key, value) for index, dictionary in enumerate(example_list) for key, value in dictionary.items()]\n",
    "\n",
    "# Function to get key and value by index\n",
    "def get_key_value_by_index(index):\n",
    "    # Calculate the cumulative length of arrays until the index\n",
    "    cumulative_length = 0\n",
    "    for position, key, value in flattened_list:\n",
    "        cumulative_length += len(value)\n",
    "        if index < cumulative_length:\n",
    "            return position, key, value[index - (cumulative_length - len(value))]\n",
    "\n",
    "# Test cases\n",
    "test_indices = [0, 7, 19]\n",
    "for index in test_indices:\n",
    "    position, label, value = get_key_value_by_index(index)\n",
    "    print(f\"Index {index}: Position in dict: {position}, Label: {label}, Value: {value}\")"
   ]
  },
  {
   "cell_type": "code",
   "execution_count": 32,
   "id": "704e8134-ac89-4b26-9ccf-05e15e2cc800",
   "metadata": {},
   "outputs": [],
   "source": [
    "class SignalDataset(Dataset):\n",
    "\n",
    "    def __init__(self, step: int, window_size: int, paths_and_classes: dict,\n",
    "                 reduction: float, device=torch.device(\"cpu\")):\n",
    "        source_dtype = \"float32\"\n",
    "        self.step = step\n",
    "        self.window_size = window_size\n",
    "\n",
    "        paths = list(paths_and_classes)  # creates list of paths\n",
    "        class_distribution = list(paths_and_classes.values())\n",
    "        self.num_of_samples_per_class = []  # each element contains a number of samples in each class # Martin: per class nebo per bin? Zkus to udělat obecně rovnou tak, aby každá třída mohla mít víc bin souborů, pak to bude obecnější\n",
    "\n",
    "        self._load_signals(paths, source_dtype)  # loads raw data in form of numpy arrray in to a list\n",
    "        # self._create_sampling(class_distribution)\n",
    "\n",
    "    def _load_signals(self, paths: list, dtype=\"float32\"):\n",
    "        self.loaded_signal = []\n",
    "        for i, path in enumerate(paths):\n",
    "            # count = np.fromfile(path, dtype=dtype).shape[0]\n",
    "            self.loaded_signal.append(np.fromfile(path, dtype=dtype))\n",
    "\n",
    "    def _create_sampling(self, class_distribution: list):\n",
    "        self.sampled_signal = []\n",
    "        for i, distribution in enumerate(class_distribution):\n",
    "\n",
    "            full_length = np.sum(distribution.values())  # in seconds\n",
    "            recording_size = self.loaded_signal[i].shape[0]  # number of points\n",
    "            one_sec = recording_size / full_length  # number of points per one second\n",
    "            shift = 0\n",
    "            bins_per_label = CustomDict()\n",
    "            for label, size in distribution.item():\n",
    "                fraction_of_sample = size / full_length\n",
    "                length_of_sample = fraction_of_sample * recording_size\n",
    "                operated_signal = self.loaded_signal[i][shift + one_sec: shift + length_of_sample - one_sec]\n",
    "                shift += length_of_sample\n",
    "                bins_per_label[label] = self._create_binning(operated_signal)\n",
    "            self.sampled_signal.append(bins_per_label)\n",
    "\n",
    "    def _create_binning(self, signal):\n",
    "        length = signal.shape[0]\n",
    "        num_of_samples = (length - self.window_size) // self.step\n",
    "        indices = np.arange(num_of_samples, dtype=np.int32, step=self.step)\n",
    "        return indices\n",
    "\n",
    "    def __len__(self):\n",
    "        \n",
    "        return np.sum(self.num_of_samples_per_class)\n",
    "\n",
    "    def __getitem__(self, idx):\n",
    "        \n"
   ]
  },
  {
   "cell_type": "code",
   "execution_count": 2,
   "id": "f0cc1720-77c3-4107-bbc6-47dbda04a7bc",
   "metadata": {},
   "outputs": [],
   "source": [
    "\n",
    "class CustomDict:\n",
    "    def __init__(self):\n",
    "        self._data = {}\n",
    "\n",
    "    def __getitem__(self, key):\n",
    "        return self._data[key]\n",
    "\n",
    "    def __setitem__(self, key, value):\n",
    "        if key in self._data:\n",
    "            if isinstance(value, np.ndarray):\n",
    "                self._data[key] = np.concatenate((self._data[key],value))\n",
    "            else:\n",
    "                raise TypeError(\"Only numpy arrays can be added to existing numpy arrays.\")\n",
    "        else:\n",
    "            if isinstance(value, np.ndarray):\n",
    "                self._data[key] = value\n",
    "            else:\n",
    "                raise TypeError(\"Values must be numpy arrays.\")\n",
    "\n",
    "    def __delitem__(self, key):\n",
    "        del self._data[key]\n",
    "\n",
    "    def keys(self):\n",
    "        return self._data.keys()\n",
    "\n",
    "    def values(self):\n",
    "        return self._data.values()\n",
    "\n",
    "    def items(self):\n",
    "        return self._data.items()\n",
    "\n",
    "    def __repr__(self):\n",
    "        return repr(self._data)\n"
   ]
  },
  {
   "cell_type": "code",
   "execution_count": 3,
   "id": "4c634b1f-e999-4ac0-8954-5059b6eae94a",
   "metadata": {},
   "outputs": [],
   "source": [
    "\n",
    "\n",
    "def get_position_label_start_by_index(index, list_of_dicts: list[CustomDict]):\n",
    "    # Initialize cumulative length\n",
    "    cumulative_length = 0\n",
    "    \n",
    "    # Iterate through dictionaries in the list\n",
    "    for i, dictionary in enumerate(list_of_dicts):\n",
    "        # Iterate through key-value pairs in each dictionary\n",
    "        for key, value in dictionary.items():\n",
    "            # Calculate the cumulative length\n",
    "            length = len(value)\n",
    "            if index < cumulative_length + length:\n",
    "                return i, key, value[index - cumulative_length]\n",
    "            cumulative_length += length\n",
    "    \n",
    "    # If index is out of range, return None\n",
    "    return None, None, None"
   ]
  },
  {
   "cell_type": "code",
   "execution_count": 4,
   "id": "d092c122-83eb-4dc1-b0b3-0910b93b2db5",
   "metadata": {},
   "outputs": [],
   "source": [
    "\n",
    "class SignalDataset(Dataset):\n",
    "\n",
    "    def __init__(self, step: int, window_size: int, paths_and_classes: dict, device=torch.device(\"cpu\")):\n",
    "        source_dtype = \"float32\"\n",
    "        self.step = step\n",
    "        self.window_size = window_size\n",
    "        self.device = device\n",
    "\n",
    "        paths = list(paths_and_classes)  # creates list of paths\n",
    "        class_distribution = list(paths_and_classes.values())\n",
    "\n",
    "        self._load_signals(paths, source_dtype)  # loads raw data in form of numpy arrray in to a list\n",
    "        self._create_sampling(class_distribution)\n",
    "\n",
    "    def _load_signals(self, paths: list, dtype=\"float32\"):\n",
    "        self.loaded_signal = []\n",
    "        for i, path in enumerate(paths):\n",
    "            # count = np.fromfile(path, dtype=dtype).shape[0]\n",
    "            self.loaded_signal.append(np.fromfile(path, dtype=dtype))\n",
    "\n",
    "    def _create_sampling(self, class_distributions: list):\n",
    "\n",
    "        self.sampling = []\n",
    "        self.num_of_samples = []\n",
    "\n",
    "        for i, distribution in enumerate(class_distributions):\n",
    "\n",
    "            assert len(distribution[\"size\"]) == len(distribution[\"labels\"]), \"labels and sizes are mismatched\"\n",
    "\n",
    "            full_length = np.sum(distribution[\"size\"])\n",
    "            recording_size = self.loaded_signal[i].shape[0]  # number of points\n",
    "            already_binned = 0\n",
    "            shift = 4 * self.window_size  # later will be dependent on frequency of sensor\n",
    "            bins_per_label = CustomDict()\n",
    "            \n",
    "            for idx in range(len(distribution[\"labels\"])):\n",
    "                # later will be size calculated based on the frequency and derived from actual seconds recorded\n",
    "                fraction_of_sample = distribution[\"size\"][idx] / full_length\n",
    "                length_of_sample = int(np.floor(fraction_of_sample * recording_size))\n",
    "\n",
    "\n",
    "                start = already_binned + shift\n",
    "                end = length_of_sample + already_binned - shift\n",
    "                bins = np.arange(start=start, stop=end, step=self.step)\n",
    "                bins_per_label[distribution[\"labels\"][idx]] = bins\n",
    "                self.num_of_samples.append(bins.size)\n",
    "                \n",
    "                already_binned += length_of_sample\n",
    "            self.sampling.append(bins_per_label)\n",
    "    # 0:      26100000, 26171875: 52271875\n",
    "    # 400000: 25700000, 26571875: 51871875\n",
    "\n",
    "    def __len__(self):\n",
    "        return np.sum(self.num_of_samples)\n",
    "\n",
    "    def __getitem__(self, idx):\n",
    "        position, label, start = get_position_label_start_by_index(idx, self.sampling)\n",
    "        return torch.tensor(self.loaded_signal[position][start: start+self.window_size]), torch.tensor(label)\n",
    "\n"
   ]
  },
  {
   "cell_type": "code",
   "execution_count": 5,
   "id": "ab5ec409-7860-41cd-a792-3574ad053668",
   "metadata": {},
   "outputs": [],
   "source": [
    "cuda0 = torch.device(\"cuda:0\")\n",
    "directory_of_signal_data = \"/home/petr/Documents/Motor_projekt/Data\"\n",
    "list_of_paths = sorted(Path(directory_of_signal_data).glob('*.bin'))\n",
    "list_of_classes = [{\"labels\": [0, 10], \"size\": [15, 15]},\n",
    "                   {\"labels\": [1, 11], \"size\": [15, 15]},\n",
    "                   {\"labels\": [2, 12], \"size\": [15, 15]},\n",
    "                   {\"labels\": [3, 13], \"size\": [15, 15]},\n",
    "                   {\"labels\": [4, 14], \"size\": [15, 15]},\n",
    "                   {\"labels\": [5, 15], \"size\": [15, 15]},\n",
    "                   {\"labels\": [6, 16], \"size\": [15, 15]},\n",
    "                   {\"labels\": [7, 17], \"size\": [15, 15]},\n",
    "                   {\"labels\": [8, 18], \"size\": [15, 15]}]\n",
    "\n",
    "data_specs = dict(zip(list_of_paths, list_of_classes))\n",
    "\n",
    "\n",
    "dataset = SignalDataset(step=1000, window_size=1000, paths_and_classes=data_specs, device=cuda0)"
   ]
  },
  {
   "cell_type": "code",
   "execution_count": 6,
   "id": "e73f83ca-8238-4078-9f87-31200fd60002",
   "metadata": {},
   "outputs": [
    {
     "data": {
      "text/plain": [
       "464694"
      ]
     },
     "execution_count": 6,
     "metadata": {},
     "output_type": "execute_result"
    }
   ],
   "source": [
    "len(dataset)"
   ]
  },
  {
   "cell_type": "code",
   "execution_count": 7,
   "id": "a631724e-09ed-41ae-b833-13c27ff91f43",
   "metadata": {},
   "outputs": [
    {
     "data": {
      "text/plain": [
       "(tensor([ 3.7818e-04,  6.1376e-04,  6.9436e-04,  4.5257e-04,  8.8035e-04,\n",
       "          9.2374e-04,  1.0725e-03,  1.2771e-03,  1.3701e-03,  1.6925e-03,\n",
       "          1.1965e-03,  1.2089e-03,  1.4879e-03,  1.3515e-03,  1.2833e-03,\n",
       "          1.1221e-03,  1.2771e-03,  1.1655e-03,  1.5313e-03,  1.4383e-03,\n",
       "          1.5685e-03,  1.8413e-03,  1.8041e-03,  1.7173e-03,  1.9157e-03,\n",
       "          2.1947e-03,  2.6100e-03,  2.1079e-03,  2.3559e-03,  2.6162e-03,\n",
       "          2.0459e-03,  2.1451e-03,  2.1761e-03,  2.2443e-03,  1.9219e-03,\n",
       "          1.6553e-03,  2.0893e-03,  2.0831e-03,  1.8537e-03,  1.2523e-03,\n",
       "          1.6739e-03,  1.9715e-03,  2.5356e-03,  2.1823e-03,  1.8041e-03,\n",
       "          2.0149e-03,  2.3621e-03,  1.9281e-03,  1.7731e-03,  2.1079e-03,\n",
       "          1.6429e-03,  2.0149e-03,  1.8165e-03,  1.8351e-03,  1.4569e-03,\n",
       "          1.2833e-03,  1.8351e-03,  2.0211e-03,  1.6181e-03,  1.7173e-03,\n",
       "          2.0335e-03,  2.0521e-03,  2.1761e-03,  2.0583e-03,  2.1947e-03,\n",
       "          1.7359e-03,  1.7917e-03,  2.1327e-03,  1.7111e-03,  1.4817e-03,\n",
       "          1.4941e-03,  1.8351e-03,  1.6677e-03,  1.5809e-03,  1.5499e-03,\n",
       "          1.9033e-03,  2.0335e-03,  2.0459e-03,  2.0521e-03,  2.1265e-03,\n",
       "          2.2133e-03,  2.2009e-03,  1.9219e-03,  1.8413e-03,  1.6925e-03,\n",
       "          1.5933e-03,  1.4817e-03,  1.2895e-03,  1.1097e-03,  1.5127e-03,\n",
       "          1.5127e-03,  1.3763e-03,  1.2523e-03,  1.3329e-03,  1.7855e-03,\n",
       "          1.9405e-03,  1.6925e-03,  1.6305e-03,  1.6801e-03,  1.5995e-03,\n",
       "          1.7049e-03,  1.6739e-03,  1.4507e-03,  1.2647e-03,  1.5623e-03,\n",
       "          1.2461e-03,  1.1283e-03,  1.5995e-03,  1.7421e-03,  1.6491e-03,\n",
       "          1.4321e-03,  1.6925e-03,  1.8103e-03,  1.4941e-03,  1.8289e-03,\n",
       "          1.4941e-03,  9.8574e-04,  1.0539e-03,  1.4135e-03,  1.0973e-03,\n",
       "          1.1407e-03,  1.0043e-03,  1.0539e-03,  9.8574e-04,  1.2895e-03,\n",
       "          1.1283e-03,  1.0787e-03,  1.3329e-03,  1.5809e-03,  1.4755e-03,\n",
       "          9.8574e-04,  1.1903e-03,  1.4135e-03,  1.3081e-03,  1.1779e-03,\n",
       "          1.0229e-03,  8.2455e-04,  1.1221e-03,  1.1903e-03,  1.0787e-03,\n",
       "          7.7495e-04,  8.9275e-04,  1.2895e-03,  1.2399e-03,  1.0539e-03,\n",
       "          1.2027e-03,  1.1469e-03,  9.3614e-04,  1.4879e-03,  1.0911e-03,\n",
       "          1.2151e-03,  1.0105e-03,  8.4935e-04,  1.0167e-03,  9.1754e-04,\n",
       "          1.0105e-03,  7.8115e-04,  8.7415e-04,  1.2027e-03,  1.2709e-03,\n",
       "          1.0663e-03,  1.0787e-03,  1.3391e-03,  1.0601e-03,  1.3329e-03,\n",
       "          1.1283e-03,  1.2461e-03,  6.8196e-04,  1.1221e-03,  1.0105e-03,\n",
       "          5.7657e-04,  8.3075e-04,  8.3075e-04,  1.5065e-03,  9.9814e-04,\n",
       "          1.3143e-03,  1.2461e-03,  1.3081e-03,  1.6615e-03,  1.5189e-03,\n",
       "          1.1655e-03,  7.1296e-04,  1.4073e-03,  1.5809e-03,  1.7049e-03,\n",
       "          1.1345e-03,  8.3075e-04,  8.0595e-04,  1.0353e-03,  1.5437e-03,\n",
       "          1.0353e-03,  6.3856e-04,  1.0043e-03,  1.2399e-03,  1.1903e-03,\n",
       "          1.5065e-03,  1.3329e-03,  1.5933e-03,  1.6305e-03,  1.3081e-03,\n",
       "          1.7049e-03,  1.0353e-03,  1.1841e-03,  1.2647e-03,  1.2213e-03,\n",
       "          9.7334e-04,  1.0787e-03,  1.2771e-03,  1.2585e-03,  1.3515e-03,\n",
       "          1.2585e-03,  1.4073e-03,  1.3143e-03,  1.5933e-03,  1.5313e-03,\n",
       "          1.5127e-03,  1.4383e-03,  1.5995e-03,  1.5871e-03,  1.3143e-03,\n",
       "          1.4569e-03,  1.4817e-03,  1.7607e-03,  1.4011e-03,  1.1407e-03,\n",
       "          9.9194e-04,  1.5623e-03,  1.5747e-03,  1.6739e-03,  1.3081e-03,\n",
       "          1.6739e-03,  1.7545e-03,  1.6367e-03,  1.6987e-03,  1.5189e-03,\n",
       "          1.8723e-03,  1.6057e-03,  1.6553e-03,  1.5313e-03,  1.4135e-03,\n",
       "          1.7669e-03,  1.4879e-03,  1.5189e-03,  1.2771e-03,  1.5499e-03,\n",
       "          1.3577e-03,  1.8971e-03,  1.6925e-03,  1.8041e-03,  1.6863e-03,\n",
       "          1.8103e-03,  1.9157e-03,  1.6491e-03,  1.5375e-03,  1.4321e-03,\n",
       "          1.6243e-03,  1.1593e-03,  1.4755e-03,  1.4011e-03,  1.8289e-03,\n",
       "          1.7793e-03,  1.6677e-03,  1.5127e-03,  1.3453e-03,  1.6801e-03,\n",
       "          1.5747e-03,  1.3019e-03,  9.4854e-04,  1.4507e-03,  1.2957e-03,\n",
       "          6.4476e-04,  1.0601e-03,  7.6875e-04,  1.0849e-03,  8.4935e-04,\n",
       "          9.2994e-04,  9.3614e-04,  9.8574e-04,  1.0105e-03,  9.8574e-04,\n",
       "          7.3776e-04,  1.0973e-03,  1.2957e-03,  7.8115e-04,  8.7415e-04,\n",
       "          6.1376e-04,  1.1159e-03,  7.9355e-04,  3.8438e-04,  5.0217e-04,\n",
       "          7.9355e-04,  1.0415e-03,  6.1996e-04,  6.6336e-04,  7.0676e-04,\n",
       "          1.4011e-03,  1.2957e-03,  1.2895e-03,  1.5685e-03,  1.5995e-03,\n",
       "          1.4817e-03,  1.4569e-03,  1.5375e-03,  1.5251e-03,  1.9777e-03,\n",
       "          1.5685e-03,  1.6367e-03,  1.3949e-03,  1.8165e-03,  2.1451e-03,\n",
       "          1.9591e-03,  1.9405e-03,  1.5933e-03,  2.2257e-03,  1.8909e-03,\n",
       "          2.0397e-03,  1.8785e-03,  1.8909e-03,  2.3373e-03,  2.2319e-03,\n",
       "          1.9777e-03,  1.7049e-03,  2.1823e-03,  2.4241e-03,  1.9467e-03,\n",
       "          1.8847e-03,  2.2691e-03,  2.3187e-03,  2.5170e-03,  2.4365e-03,\n",
       "          1.9777e-03,  2.2319e-03,  2.4179e-03,  2.8580e-03,  2.3683e-03,\n",
       "          1.9901e-03,  2.4055e-03,  2.4303e-03,  2.5418e-03,  2.4737e-03,\n",
       "          2.4551e-03,  2.4427e-03,  2.9076e-03,  2.9820e-03,  2.7030e-03,\n",
       "          2.3559e-03,  2.2567e-03,  2.8146e-03,  2.9696e-03,  2.8456e-03,\n",
       "          2.3125e-03,  2.5232e-03,  2.3869e-03,  3.2796e-03,  2.8332e-03,\n",
       "          2.6844e-03,  2.9696e-03,  3.0068e-03,  3.2486e-03,  3.2796e-03,\n",
       "          3.5648e-03,  3.6206e-03,  3.7756e-03,  3.7570e-03,  4.2095e-03,\n",
       "          3.8996e-03,  3.9678e-03,  4.2219e-03,  4.0856e-03,  3.9616e-03,\n",
       "          3.7632e-03,  4.0856e-03,  4.1600e-03,  4.1661e-03,  4.2591e-03,\n",
       "          3.8624e-03,  4.3025e-03,  4.5257e-03,  4.6621e-03,  4.5071e-03,\n",
       "          5.0217e-03,  4.7489e-03,  5.1519e-03,  5.1953e-03,  4.9969e-03,\n",
       "          4.6931e-03,  4.9535e-03,  4.9969e-03,  4.7799e-03,  4.4637e-03,\n",
       "          4.5567e-03,  4.9039e-03,  4.4823e-03,  5.0899e-03,  5.0217e-03,\n",
       "          5.1953e-03,  4.9969e-03,  5.1891e-03,  5.8958e-03,  5.8710e-03,\n",
       "          5.8586e-03,  5.5053e-03,  5.7781e-03,  5.5363e-03,  6.0880e-03,\n",
       "          5.8462e-03,  5.8586e-03,  5.3503e-03,  5.5797e-03,  5.5859e-03,\n",
       "          5.7161e-03,  5.8710e-03,  5.4681e-03,  5.9330e-03,  5.7037e-03,\n",
       "          6.1438e-03,  6.2244e-03,  6.1376e-03,  6.4724e-03,  6.3856e-03,\n",
       "          6.9312e-03,  6.7452e-03,  7.0242e-03,  6.9684e-03,  7.0056e-03,\n",
       "          7.3280e-03,  7.5945e-03,  7.3962e-03,  6.9746e-03,  7.3838e-03,\n",
       "          6.9684e-03,  7.1792e-03,  7.0428e-03,  7.1854e-03,  7.0180e-03,\n",
       "          6.9188e-03,  7.0924e-03,  6.8258e-03,  7.3776e-03,  7.3838e-03,\n",
       "          7.7061e-03,  7.2908e-03,  7.2412e-03,  7.9479e-03,  7.9231e-03,\n",
       "          7.6503e-03,  7.1234e-03,  7.3032e-03,  7.0800e-03,  7.3280e-03,\n",
       "          7.0304e-03,  7.1172e-03,  7.1916e-03,  7.3466e-03,  7.3032e-03,\n",
       "          7.3528e-03,  7.7309e-03,  7.3900e-03,  7.9355e-03,  7.6813e-03,\n",
       "          7.6131e-03,  7.2846e-03,  7.4148e-03,  7.7123e-03,  7.0180e-03,\n",
       "          7.2908e-03,  6.9498e-03,  6.8258e-03,  7.0800e-03,  7.6999e-03,\n",
       "          7.2908e-03,  7.0738e-03,  6.9312e-03,  7.6255e-03,  7.1916e-03,\n",
       "          6.9126e-03,  7.3094e-03,  6.9684e-03,  7.1978e-03,  6.9126e-03,\n",
       "          7.2536e-03,  7.0242e-03,  6.8134e-03,  7.2474e-03,  6.9064e-03,\n",
       "          6.7638e-03,  6.8630e-03,  6.7700e-03,  7.0056e-03,  6.8506e-03,\n",
       "          6.5778e-03,  6.6646e-03,  6.6460e-03,  7.0242e-03,  6.7514e-03,\n",
       "          6.6770e-03,  6.8940e-03,  6.7948e-03,  6.6646e-03,  6.3360e-03,\n",
       "          6.5096e-03,  6.4290e-03,  6.5654e-03,  6.6088e-03,  6.5282e-03,\n",
       "          6.3670e-03,  6.4476e-03,  6.4910e-03,  6.3546e-03,  6.2802e-03,\n",
       "          6.2988e-03,  6.5034e-03,  6.1500e-03,  6.3050e-03,  6.4228e-03,\n",
       "          5.9702e-03,  6.2058e-03,  6.0012e-03,  6.0260e-03,  5.6231e-03,\n",
       "          5.6293e-03,  5.7037e-03,  5.5115e-03,  5.5797e-03,  5.0899e-03,\n",
       "          5.2015e-03,  5.5115e-03,  5.8400e-03,  5.5301e-03,  5.3131e-03,\n",
       "          5.3007e-03,  5.4991e-03,  5.6417e-03,  5.5239e-03,  5.5921e-03,\n",
       "          5.0093e-03,  5.4061e-03,  5.2077e-03,  5.4805e-03,  5.0527e-03,\n",
       "          5.0775e-03,  5.3131e-03,  4.6745e-03,  5.0713e-03,  4.8729e-03,\n",
       "          5.1953e-03,  4.5939e-03,  4.2653e-03,  4.5319e-03,  4.2529e-03,\n",
       "          4.0112e-03,  4.0546e-03,  3.9554e-03,  3.5276e-03,  3.8748e-03,\n",
       "          4.1352e-03,  3.9554e-03,  3.5214e-03,  3.6516e-03,  3.7012e-03,\n",
       "          3.5028e-03,  3.3788e-03,  3.2424e-03,  3.2672e-03,  3.1742e-03,\n",
       "          3.2796e-03,  2.9510e-03,  3.0254e-03,  3.0378e-03,  3.0750e-03,\n",
       "          2.7960e-03,  2.7464e-03,  2.7898e-03,  2.7960e-03,  3.0688e-03,\n",
       "          2.8766e-03,  2.6968e-03,  2.5976e-03,  2.9944e-03,  2.9448e-03,\n",
       "          2.8890e-03,  2.5480e-03,  2.2071e-03,  2.6100e-03,  2.5604e-03,\n",
       "          2.2071e-03,  2.1265e-03,  1.8165e-03,  2.0583e-03,  2.1141e-03,\n",
       "          1.6615e-03,  1.3019e-03,  1.7359e-03,  1.6925e-03,  1.8413e-03,\n",
       "          1.5127e-03,  1.5313e-03,  1.5437e-03,  1.9529e-03,  2.0707e-03,\n",
       "          1.8661e-03,  1.7173e-03,  1.7235e-03,  2.0831e-03,  2.1699e-03,\n",
       "          1.9839e-03,  1.8847e-03,  1.5995e-03,  1.6863e-03,  2.2815e-03,\n",
       "          1.9343e-03,  1.5065e-03,  1.9591e-03,  1.7731e-03,  1.5499e-03,\n",
       "          1.9157e-03,  2.2691e-03,  1.9467e-03,  1.9839e-03,  2.2691e-03,\n",
       "          2.2815e-03,  2.0645e-03,  2.0273e-03,  2.3063e-03,  2.1699e-03,\n",
       "          2.2009e-03,  2.2629e-03,  2.1761e-03,  2.1141e-03,  1.9219e-03,\n",
       "          1.8909e-03,  2.0397e-03,  2.1451e-03,  1.6739e-03,  1.9963e-03,\n",
       "          1.9033e-03,  2.2505e-03,  2.2443e-03,  2.1451e-03,  2.1513e-03,\n",
       "          2.1327e-03,  2.2753e-03,  2.1699e-03,  2.0645e-03,  2.1451e-03,\n",
       "          2.4675e-03,  2.1451e-03,  2.1761e-03,  2.1637e-03,  2.2257e-03,\n",
       "          3.0068e-03,  2.2877e-03,  2.1699e-03,  1.9157e-03,  2.7774e-03,\n",
       "          2.3931e-03,  2.3931e-03,  2.2257e-03,  1.8599e-03,  1.7979e-03,\n",
       "          2.0149e-03,  1.9033e-03,  1.5313e-03,  1.8785e-03,  1.8165e-03,\n",
       "          1.8785e-03,  1.7731e-03,  1.8289e-03,  2.0335e-03,  1.9281e-03,\n",
       "          2.3869e-03,  2.2505e-03,  2.2815e-03,  2.3187e-03,  2.5666e-03,\n",
       "          2.5294e-03,  2.2939e-03,  2.5914e-03,  2.1637e-03,  2.2009e-03,\n",
       "          2.3373e-03,  2.3745e-03,  2.2257e-03,  2.5294e-03,  2.3249e-03,\n",
       "          2.4365e-03,  2.3931e-03,  2.6906e-03,  2.8084e-03,  2.4489e-03,\n",
       "          2.5666e-03,  2.8084e-03,  3.0502e-03,  2.8270e-03,  2.7960e-03,\n",
       "          2.7216e-03,  2.8518e-03,  2.9014e-03,  2.7526e-03,  2.8952e-03,\n",
       "          2.8580e-03,  3.0502e-03,  2.8394e-03,  2.7712e-03,  2.7898e-03,\n",
       "          3.0192e-03,  2.9758e-03,  2.8394e-03,  3.1866e-03,  2.7216e-03,\n",
       "          2.8890e-03,  3.4160e-03,  3.4160e-03,  3.1432e-03,  3.0688e-03,\n",
       "          3.4594e-03,  3.2610e-03,  3.4098e-03,  3.2362e-03,  3.2858e-03,\n",
       "          3.0378e-03,  3.3230e-03,  3.2114e-03,  3.1742e-03,  2.5046e-03,\n",
       "          2.8828e-03,  3.1370e-03,  2.8332e-03,  2.7402e-03,  2.5914e-03,\n",
       "          2.6224e-03,  2.8580e-03,  3.0998e-03,  2.6100e-03,  2.1203e-03,\n",
       "          2.1327e-03,  2.2815e-03,  2.4737e-03,  2.0335e-03,  1.8971e-03,\n",
       "          1.7979e-03,  1.7297e-03,  2.0955e-03,  1.8475e-03,  1.3701e-03,\n",
       "          1.5871e-03,  1.8971e-03,  1.6553e-03,  2.2319e-03,  2.0521e-03,\n",
       "          2.1203e-03,  1.6429e-03,  2.0397e-03,  2.2443e-03,  1.8537e-03,\n",
       "          2.1017e-03,  1.8599e-03,  1.7669e-03,  1.4197e-03,  1.7793e-03,\n",
       "          1.7049e-03,  1.5623e-03,  1.6615e-03,  1.3949e-03,  1.4321e-03,\n",
       "          1.5437e-03,  2.3621e-03,  1.8475e-03,  1.3577e-03,  1.4693e-03,\n",
       "          1.6615e-03,  1.5871e-03,  1.4321e-03,  1.2089e-03,  6.3236e-04,\n",
       "          1.0663e-03,  9.6714e-04,  6.3236e-04,  6.6336e-04,  4.7117e-04,\n",
       "          6.0756e-04,  5.5177e-04,  6.3856e-04,  7.4396e-04,  8.6795e-04,\n",
       "          8.8035e-04,  9.7954e-04,  8.3075e-04,  4.6497e-04,  5.9516e-04,\n",
       "          5.8896e-04,  6.0136e-04,  2.0459e-04,  2.7898e-04,  4.7737e-04,\n",
       "          3.1618e-04,  2.1079e-04,  3.5338e-04,  1.1159e-04,  5.3937e-04,\n",
       "          5.3937e-04,  2.8518e-04,  2.6658e-04,  1.2399e-05,  6.3856e-04,\n",
       "          2.1699e-04,  1.9839e-04, -6.1996e-05, -1.3019e-04,  1.0539e-04,\n",
       "         -3.7198e-05,  1.8599e-05, -3.0998e-05,  1.1779e-04,  6.1996e-06,\n",
       "          1.2399e-05,  8.6795e-05,  3.7818e-04,  1.1159e-04,  5.5797e-05,\n",
       "          1.9839e-04,  2.1699e-04,  1.6739e-04, -3.0998e-04, -3.9678e-04,\n",
       "         -5.5177e-04, -4.2777e-04, -5.0217e-04, -3.0998e-04, -5.0217e-04,\n",
       "         -7.3156e-04, -3.0998e-04, -3.9678e-04, -6.7576e-04, -7.2536e-04,\n",
       "         -4.5257e-04, -7.9355e-04, -7.2536e-04, -6.1996e-04, -8.2455e-04,\n",
       "         -8.7415e-04, -7.9355e-04, -1.0229e-03, -1.3267e-03, -1.3515e-03,\n",
       "         -1.5251e-03, -1.3329e-03, -1.3887e-03, -1.5313e-03, -1.7235e-03,\n",
       "         -1.5623e-03, -1.2647e-03, -1.4693e-03, -1.5809e-03, -1.2213e-03,\n",
       "         -1.3329e-03, -1.6491e-03, -1.8351e-03, -1.6863e-03, -1.5747e-03,\n",
       "         -1.6615e-03, -1.9467e-03, -1.8971e-03, -1.7483e-03, -1.5933e-03,\n",
       "         -1.5871e-03, -1.4383e-03, -1.5189e-03, -1.3825e-03, -1.0353e-03,\n",
       "         -1.5189e-03, -1.1159e-03, -1.5685e-03, -1.4445e-03, -1.4383e-03,\n",
       "         -1.7235e-03, -1.6925e-03, -1.7545e-03, -1.6429e-03, -1.9777e-03,\n",
       "         -2.0831e-03, -1.5871e-03, -1.4817e-03, -1.9281e-03, -2.1079e-03,\n",
       "         -1.8289e-03, -1.0601e-03, -1.4817e-03, -1.7297e-03, -1.6801e-03,\n",
       "         -2.2443e-03, -1.6739e-03, -1.4569e-03, -1.9219e-03, -1.9281e-03,\n",
       "         -2.1761e-03, -1.8537e-03, -1.8413e-03, -1.7545e-03, -2.1265e-03,\n",
       "         -2.0583e-03, -1.9901e-03, -2.1079e-03, -2.1203e-03, -2.3001e-03,\n",
       "         -2.1699e-03, -1.9529e-03, -2.3249e-03, -2.7216e-03, -2.1947e-03,\n",
       "         -2.4675e-03, -2.3311e-03, -2.2567e-03, -2.1079e-03, -2.4489e-03,\n",
       "         -2.6472e-03, -2.1389e-03, -2.2939e-03, -2.1513e-03, -2.6224e-03,\n",
       "         -2.8146e-03, -2.7650e-03, -2.7650e-03, -2.4303e-03, -2.8518e-03,\n",
       "         -2.9944e-03, -2.9758e-03, -2.8766e-03, -2.9758e-03, -2.7960e-03,\n",
       "         -2.7030e-03, -2.5914e-03, -2.2877e-03, -2.5232e-03, -2.2753e-03,\n",
       "         -2.4179e-03, -1.9591e-03, -2.2319e-03, -2.5914e-03, -2.6782e-03,\n",
       "         -2.7898e-03, -2.4923e-03, -2.8084e-03, -2.8332e-03, -3.0688e-03,\n",
       "         -3.0564e-03, -2.7154e-03, -3.2362e-03, -2.9014e-03, -2.7402e-03,\n",
       "         -2.6968e-03, -2.7898e-03, -2.6410e-03, -2.6596e-03, -2.9200e-03,\n",
       "         -2.8394e-03, -2.7340e-03, -3.0874e-03, -3.5090e-03, -3.3726e-03,\n",
       "         -3.2858e-03, -3.3478e-03, -3.9430e-03, -3.7384e-03, -3.5710e-03,\n",
       "         -3.9368e-03, -3.6206e-03, -3.6330e-03, -3.8252e-03, -3.6268e-03,\n",
       "         -3.3416e-03, -3.2362e-03, -3.5772e-03, -3.8252e-03, -3.2796e-03,\n",
       "         -3.6516e-03, -3.5834e-03, -3.9244e-03, -3.7322e-03, -3.5958e-03,\n",
       "         -3.8748e-03, -3.8748e-03, -4.2281e-03, -3.9678e-03, -3.7136e-03,\n",
       "         -3.8314e-03, -3.7322e-03, -3.5834e-03, -3.5214e-03, -3.4470e-03,\n",
       "         -3.5090e-03, -3.3416e-03, -3.3044e-03, -3.6144e-03, -3.4160e-03,\n",
       "         -3.6516e-03, -3.8128e-03, -3.3416e-03, -3.7942e-03, -3.3912e-03]),\n",
       " tensor(18))"
      ]
     },
     "execution_count": 7,
     "metadata": {},
     "output_type": "execute_result"
    }
   ],
   "source": [
    "dataset[len(dataset)-1]"
   ]
  },
  {
   "cell_type": "code",
   "execution_count": 8,
   "id": "12d8ec3f-869b-4d97-9763-a31857602265",
   "metadata": {},
   "outputs": [
    {
     "data": {
      "text/plain": [
       "[{0: array([    4000,     5000,     6000, ..., 52337070, 52338070, 52339070]), 10: array([22437035, 22438035, 22439035, ..., 44860035, 44861035, 44862035])},\n",
       " {1: array([    4000,     5000,     6000, ..., 12884000, 12885000, 12886000]), 11: array([12894625, 12895625, 12896625, ..., 25774625, 25775625, 25776625]), 0: array([25785250, 25786250, 25787250, ..., 51556250, 51557250, 51558250])},\n",
       " {2: array([    4000,     5000,     6000, ..., 25775000, 25776000, 25777000]), 12: array([25785250, 25786250, 25787250, ..., 51556250, 51557250, 51558250])},\n",
       " {3: array([    4000,     5000,     6000, ..., 25384000, 25385000, 25386000]), 13: array([25394625, 25395625, 25396625, ..., 50774625, 50775625, 50776625])},\n",
       " {4: array([    4000,     5000,     6000, ..., 25384000, 25385000, 25386000]), 14: array([25394625, 25395625, 25396625, ..., 50774625, 50775625, 50776625])},\n",
       " {5: array([    4000,     5000,     6000, ..., 25384000, 25385000, 25386000]), 15: array([25394625, 25395625, 25396625, ..., 50774625, 50775625, 50776625])},\n",
       " {6: array([    4000,     5000,     6000, ..., 26947000, 26948000, 26949000]), 16: array([26957125, 26958125, 26959125, ..., 53900125, 53901125, 53902125])},\n",
       " {7: array([    4000,     5000,     6000, ..., 25384000, 25385000, 25386000]), 17: array([25394625, 25395625, 25396625, ..., 50774625, 50775625, 50776625])},\n",
       " {8: array([    4000,     5000,     6000, ..., 26165000, 26166000, 26167000]), 18: array([26175875, 26176875, 26177875, ..., 52336875, 52337875, 52338875])}]"
      ]
     },
     "execution_count": 8,
     "metadata": {},
     "output_type": "execute_result"
    }
   ],
   "source": [
    "dataset.sampling"
   ]
  },
  {
   "cell_type": "code",
   "execution_count": 20,
   "id": "35063c03-79c8-44a6-9018-ad14eceb27fd",
   "metadata": {},
   "outputs": [
    {
     "name": "stdout",
     "output_type": "stream",
     "text": [
      "4 4 4925000\n"
     ]
    }
   ],
   "source": [
    "position, label, start = get_position_label_start_by_index(211111, dataset.sampling)\n",
    "print(position, label, start)"
   ]
  },
  {
   "cell_type": "code",
   "execution_count": 7,
   "id": "b747e337-f6f5-48f7-9725-cd1eafd8ce5d",
   "metadata": {},
   "outputs": [
    {
     "data": {
      "image/png": "[encoded data removed]",
      "text/plain": [
       "<Figure size 640x480 with 1 Axes>"
      ]
     },
     "metadata": {},
     "output_type": "display_data"
    }
   ],
   "source": [
    "x = np.linspace(start=0, stop=111, num=1000)\n",
    "y = dataset[440][0]\n",
    "fig, ax = plt.subplots()\n",
    "\n",
    "\n",
    "ax.plot(x, y, linewidth=2.0)\n",
    "\n",
    "plt.show()"
   ]
  },
  {
   "cell_type": "code",
   "execution_count": 4,
   "id": "332bccdb-e7d8-48d9-83a5-25d6f3211050",
   "metadata": {},
   "outputs": [
    {
     "name": "stdout",
     "output_type": "stream",
     "text": [
      "[ 5.5796652e-05 -2.9138252e-04  9.2994422e-05 ... -6.6336017e-04\n",
      " -1.1717296e-03 -6.2616245e-04]\n"
     ]
    }
   ],
   "source": [
    "source_dtype='float32'\n",
    "\n",
    "def read_bin(filename, interval: tuple[int, int] = None, source_dtype='float32') -> np.ndarray:\n",
    "        count = (interval[1] - interval[0]) if interval is not None else -1\n",
    "        file = np.fromfile(filename, dtype=source_dtype, count=count)\n",
    "        return \n",
    "\n",
    "wup_path = Path('/home/petr/Documents/Motor_projekt/Data/wup_50.bin')\n",
    "\n",
    "\n",
    "wup_50 = np.fromfile(wup_path, dtype=source_dtype)\n",
    "sample_rate = 48000\n",
    "print(wup_50)"
   ]
  },
  {
   "cell_type": "code",
   "execution_count": 5,
   "id": "6c5a075d-a80d-475c-ab01-d70fe708f619",
   "metadata": {},
   "outputs": [],
   "source": [
    "def convert_to_wav(binary_file, output_file):\n",
    "    # Read binary data into a numpy array\n",
    "    data = np.fromfile(binary_file, dtype=source_dtype)\n",
    "\n",
    "\n",
    "    sample_rate = 1410000\n",
    "\n",
    "    # Convert numpy array to WAV format\n",
    "    wavfile.write(output_file, sample_rate, data)\n",
    "    \n",
    "wup_path = Path('/home/petr/Documents/Motor_projekt/Data/wup_90.bin')\n",
    "output_file = 'wup_50.wav'\n",
    "convert_to_wav(wup_path, output_file)"
   ]
  },
  {
   "cell_type": "code",
   "execution_count": null,
   "id": "e0e58f46-301e-45ec-985d-247f90b107a7",
   "metadata": {},
   "outputs": [],
   "source": [
    "# for ploting\n",
    "for i, val in enumerate(data):\n",
    "    # data[i] = only_pure_signal(data)\n",
    "    print(wup[i].shape)\n",
    "    x = np.linspace(start=0, stop=15000000, num=wup[i].shape[0])\n",
    "    fig, ax = plt.subplots()\n",
    "    ax.plot(x, data[i], linewidth=1.0)\n",
    "\n",
    "    plt.show()"
   ]
  },
  {
   "cell_type": "code",
   "execution_count": 56,
   "id": "0af45eee-9b7e-42a4-be22-d0f0509c3c5f",
   "metadata": {},
   "outputs": [
    {
     "name": "stdout",
     "output_type": "stream",
     "text": [
      "(22,)\n",
      "data frames:11\n"
     ]
    }
   ],
   "source": [
    "d1=22 #random délka\n",
    "data=np.random.rand(d1) #dummy data\n",
    "print(data.shape)\n",
    "\n",
    "offset=2 #skok\n",
    "size=3 #sirka okna\n",
    "rows=(d1)//offset #kolik ramcu budu mit na datech\n",
    "print(\"data frames:\" + str(rows) )\n"
   ]
  }
 ],
 "metadata": {
  "kernelspec": {
   "display_name": "Python 3 (ipykernel)",
   "language": "python",
   "name": "python3"
  },
  "language_info": {
   "codemirror_mode": {
    "name": "ipython",
    "version": 3
   },
   "file_extension": ".py",
   "mimetype": "text/x-python",
   "name": "python",
   "nbconvert_exporter": "python",
   "pygments_lexer": "ipython3",
   "version": "3.11.7"
  }
 },
 "nbformat": 4,
 "nbformat_minor": 5
}
