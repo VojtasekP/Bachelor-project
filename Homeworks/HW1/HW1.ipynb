{
 "cells": [
  {
   "cell_type": "markdown",
   "id": "caccecf1",
   "metadata": {},
   "source": [
    "Make a list of odd numbers up to 50"
   ]
  },
  {
   "cell_type": "code",
   "execution_count": 2,
   "id": "a6c3404b",
   "metadata": {},
   "outputs": [
    {
     "name": "stdout",
     "output_type": "stream",
     "text": [
      "[1, 3, 5, 7, 9, 11, 13, 15, 17, 19, 21, 23, 25, 27, 29, 31, 33, 35, 37, 39, 41, 43, 45, 47, 49]\n"
     ]
    }
   ],
   "source": [
    "odds = list(range(1,50,2))\n",
    "odds_two = [i for i in range(1,50) if i % 2 != 0]\n",
    "print(odds_two)"
   ]
  },
  {
   "cell_type": "code",
   "execution_count": 5,
   "id": "5db17465",
   "metadata": {},
   "outputs": [
    {
     "name": "stdout",
     "output_type": "stream",
     "text": [
      "[0, 2, 4, 6, 8, 10, 12, 14, 16, 18, 20, 22, 24, 26, 28, 30, 32, 34, 36, 38, 40, 42, 44, 46, 48, 50]\n"
     ]
    }
   ],
   "source": [
    "evens = list(range(0,51,2))\n",
    "evens_two = [i for i in range(1,50) if i % 2 == 0]\n",
    "print(evens_two)"
   ]
  },
  {
   "cell_type": "code",
   "execution_count": 5,
   "id": "c364800f",
   "metadata": {},
   "outputs": [
    {
     "name": "stdout",
     "output_type": "stream",
     "text": [
      "[2, 20, 21, 22, 23, 24, 25, 26, 27, 28, 29, 200, 201, 202, 203, 204, 205, 206, 207, 208, 209, 210, 211, 212, 213, 214, 215, 216, 217, 218, 219, 220, 221, 222, 223, 224, 225, 226, 227, 228, 229, 230, 231, 232, 233, 234, 235, 236, 237, 238, 239, 240, 241, 242, 243, 244, 245, 246, 247, 248, 249, 250]\n"
     ]
    }
   ],
   "source": [
    "My_list = list(range(251))\n",
    "\n",
    "def first_digit(\n",
    "    num):\n",
    "    position = len(str(num))-1\n",
    "    return num // 10**position % 10\n",
    "\n",
    "First_digit_two = []\n",
    "\n",
    "for i in range(len(My_list)):\n",
    "    if (first_digit(My_list[i]) == 2):\n",
    "        First_digit_two.append(My_list[i])\n",
    "    i += 1\n",
    "    \n",
    "print(First_digit_two)"
   ]
  },
  {
   "cell_type": "code",
   "execution_count": 3,
   "id": "fe87443c",
   "metadata": {},
   "outputs": [
    {
     "data": {
      "text/plain": [
       "[2,\n",
       " 20,\n",
       " 21,\n",
       " 22,\n",
       " 23,\n",
       " 24,\n",
       " 25,\n",
       " 26,\n",
       " 27,\n",
       " 28,\n",
       " 29,\n",
       " 200,\n",
       " 201,\n",
       " 202,\n",
       " 203,\n",
       " 204,\n",
       " 205,\n",
       " 206,\n",
       " 207,\n",
       " 208,\n",
       " 209,\n",
       " 210,\n",
       " 211,\n",
       " 212,\n",
       " 213,\n",
       " 214,\n",
       " 215,\n",
       " 216,\n",
       " 217,\n",
       " 218,\n",
       " 219,\n",
       " 220,\n",
       " 221,\n",
       " 222,\n",
       " 223,\n",
       " 224,\n",
       " 225,\n",
       " 226,\n",
       " 227,\n",
       " 228,\n",
       " 229,\n",
       " 230,\n",
       " 231,\n",
       " 232,\n",
       " 233,\n",
       " 234,\n",
       " 235,\n",
       " 236,\n",
       " 237,\n",
       " 238,\n",
       " 239,\n",
       " 240,\n",
       " 241,\n",
       " 242,\n",
       " 243,\n",
       " 244,\n",
       " 245,\n",
       " 246,\n",
       " 247,\n",
       " 248,\n",
       " 249]"
      ]
     },
     "execution_count": 3,
     "metadata": {},
     "output_type": "execute_result"
    }
   ],
   "source": [
    "[i for i in range(250) if str(i)[0] == \"2\"]"
   ]
  },
  {
   "cell_type": "code",
   "execution_count": null,
   "id": "e677d819",
   "metadata": {},
   "outputs": [],
   "source": []
  },
  {
   "cell_type": "code",
   "execution_count": 4,
   "id": "93320cca",
   "metadata": {},
   "outputs": [
    {
     "name": "stdout",
     "output_type": "stream",
     "text": [
      "[16, 25, 36, 49, 64, 81, 100, 121, 144, 169, 196, 225]\n"
     ]
    }
   ],
   "source": [
    "My_list= list(range(4,16))\n",
    "def square(list):\n",
    "    return [i ** 2 for i in list]\n",
    "\n",
    "New_list = square(My_list)\n",
    "print(New_list)"
   ]
  },
  {
   "cell_type": "code",
   "execution_count": 10,
   "id": "5ade15c4",
   "metadata": {},
   "outputs": [
    {
     "name": "stdout",
     "output_type": "stream",
     "text": [
      "-0.6931421805849816\n"
     ]
    }
   ],
   "source": [
    "summary = 0\n",
    "for i in range(1,100001):\n",
    "    summary += ((-1)**i)/i\n",
    "    i += 1\n",
    "print(summary)"
   ]
  },
  {
   "cell_type": "code",
   "execution_count": 12,
   "id": "b6780121",
   "metadata": {},
   "outputs": [
    {
     "name": "stdout",
     "output_type": "stream",
     "text": [
      "xxx.png\n"
     ]
    }
   ],
   "source": [
    "My_string = \"xxx.jpg\"\n",
    "New_string = My_string.replace(\"jpg\", \"png\")\n",
    "print(New_string)"
   ]
  },
  {
   "cell_type": "code",
   "execution_count": 11,
   "id": "511ba467",
   "metadata": {},
   "outputs": [
    {
     "name": "stdout",
     "output_type": "stream",
     "text": [
      "['asdasjkla', 'asdjasmdn', 'ěí+euá+í', '']\n"
     ]
    }
   ],
   "source": [
    "string_ = \"asdasjkla.asdjasmdn.ěí+euá+í.\"\n",
    "print(string_.split(\".\"))"
   ]
  },
  {
   "cell_type": "code",
   "execution_count": 3,
   "id": "3b61a007",
   "metadata": {},
   "outputs": [
    {
     "name": "stdout",
     "output_type": "stream",
     "text": [
      "['a', 'b', 'c', 'd.png?bla=haha']\n",
      "a/b/c/d.png?bla=haha\n"
     ]
    }
   ],
   "source": [
    "string = \"a/b/c/d.png?bla=haha\"\n",
    "substring = string.split(\"/\")\n",
    "string.split(\"?\")\n",
    "print(string)"
   ]
  },
  {
   "cell_type": "code",
   "execution_count": 15,
   "id": "2dbae66f",
   "metadata": {},
   "outputs": [
    {
     "name": "stdout",
     "output_type": "stream",
     "text": [
      "[1, 3, 4, 6, 7, 9, 10, 12, 13, 15, 16, 18, 19, 21, 22, 24, 25, 27, 28, 30, 31, 33, 34, 36, 37, 39, 40, 42, 43, 45, 46, 48, 49, 51, 52, 54, 55, 57, 58, 60, 61, 63, 64, 66, 67, 69, 70, 72, 73, 75, 76, 78, 79, 81, 82, 84, 85, 87, 88, 90, 91, 93, 94, 96, 97, 99]\n"
     ]
    }
   ],
   "source": [
    "print([i for i in range(1,100) if (i+1) %3 != 0 ])"
   ]
  },
  {
   "cell_type": "code",
   "execution_count": 8,
   "id": "7e80b383",
   "metadata": {},
   "outputs": [
    {
     "name": "stdout",
     "output_type": "stream",
     "text": [
      "{1: 'abc1', 2: 'abc2', 3: 'abc3', 4: 'abc4', 5: 'abc5', 6: 'abc6', 7: 'abc7', 8: 'abc8', 9: 'abc9', 10: 'abc10', 11: 'abc11', 12: 'abc12', 13: 'abc13', 14: 'abc14', 15: 'abc15', 16: 'abc16', 17: 'abc17', 18: 'abc18', 19: 'abc19', 20: 'abc20', 21: 'abc21', 22: 'abc22', 23: 'abc23', 24: 'abc24', 25: 'abc25', 26: 'abc26', 27: 'abc27', 28: 'abc28', 29: 'abc29', 30: 'abc30', 31: 'abc31', 32: 'abc32', 33: 'abc33', 34: 'abc34', 35: 'abc35', 36: 'abc36', 37: 'abc37', 38: 'abc38', 39: 'abc39', 40: 'abc40', 41: 'abc41', 42: 'abc42', 43: 'abc43', 44: 'abc44', 45: 'abc45', 46: 'abc46', 47: 'abc47', 48: 'abc48', 49: 'abc49', 50: 'abc50'}\n"
     ]
    }
   ],
   "source": [
    "New_dict = {}\n",
    "abc = \"abc\"\n",
    "for i in range(1,51):\n",
    "    string_i= str(i)\n",
    "    Enum_abc = abc + string_i\n",
    "    New_dict[i] = Enum_abc\n",
    "    i+=1\n",
    "print(New_dict)\n",
    "\n"
   ]
  },
  {
   "cell_type": "code",
   "execution_count": 19,
   "id": "a4328c19",
   "metadata": {},
   "outputs": [],
   "source": [
    "new_dict = {i: f\"abc{i}\" for i in range(1,51) }"
   ]
  },
  {
   "cell_type": "code",
   "execution_count": 23,
   "id": "a8e89e61",
   "metadata": {},
   "outputs": [
    {
     "name": "stdout",
     "output_type": "stream",
     "text": [
      "{'abc1': 1, 'abc2': 2, 'abc3': 3, 'abc4': 4, 'abc5': 5, 'abc6': 6, 'abc7': 7, 'abc8': 8, 'abc9': 9, 'abc10': 10, 'abc11': 11, 'abc12': 12, 'abc13': 13, 'abc14': 14, 'abc15': 15, 'abc16': 16, 'abc17': 17, 'abc18': 18, 'abc19': 19, 'abc20': 20, 'abc21': 21, 'abc22': 22, 'abc23': 23, 'abc24': 24, 'abc25': 25, 'abc26': 26, 'abc27': 27, 'abc28': 28, 'abc29': 29, 'abc30': 30, 'abc31': 31, 'abc32': 32, 'abc33': 33, 'abc34': 34, 'abc35': 35, 'abc36': 36, 'abc37': 37, 'abc38': 38, 'abc39': 39, 'abc40': 40, 'abc41': 41, 'abc42': 42, 'abc43': 43, 'abc44': 44, 'abc45': 45, 'abc46': 46, 'abc47': 47, 'abc48': 48, 'abc49': 49, 'abc50': 50}\n"
     ]
    }
   ],
   "source": [
    "task7_dict = {v: k for k, v in new_dict.items()} #.items vytvoří tuple s (key,value)\n",
    "print(task7_dict)"
   ]
  },
  {
   "cell_type": "code",
   "execution_count": 24,
   "id": "03b9ff93",
   "metadata": {},
   "outputs": [],
   "source": [
    "import pandas as pd\n",
    "import csv\n",
    "df = pd.read_csv(\"en.txt\",delimiter = \" \",header=None)"
   ]
  },
  {
   "cell_type": "code",
   "execution_count": 32,
   "id": "b5ce4c60",
   "metadata": {},
   "outputs": [],
   "source": [
    "df.rename(columns=({0:\"word\", 1:\"count\"}), inplace= True )"
   ]
  },
  {
   "cell_type": "code",
   "execution_count": 27,
   "id": "1dd2290d",
   "metadata": {},
   "outputs": [
    {
     "data": {
      "text/html": [
       "<div>\n",
       "<style scoped>\n",
       "    .dataframe tbody tr th:only-of-type {\n",
       "        vertical-align: middle;\n",
       "    }\n",
       "\n",
       "    .dataframe tbody tr th {\n",
       "        vertical-align: top;\n",
       "    }\n",
       "\n",
       "    .dataframe thead th {\n",
       "        text-align: right;\n",
       "    }\n",
       "</style>\n",
       "<table border=\"1\" class=\"dataframe\">\n",
       "  <thead>\n",
       "    <tr style=\"text-align: right;\">\n",
       "      <th></th>\n",
       "      <th>0</th>\n",
       "      <th>1</th>\n",
       "    </tr>\n",
       "  </thead>\n",
       "  <tbody>\n",
       "    <tr>\n",
       "      <th>0</th>\n",
       "      <td>you</td>\n",
       "      <td>4621939</td>\n",
       "    </tr>\n",
       "    <tr>\n",
       "      <th>1</th>\n",
       "      <td>the</td>\n",
       "      <td>3957465</td>\n",
       "    </tr>\n",
       "    <tr>\n",
       "      <th>2</th>\n",
       "      <td>i</td>\n",
       "      <td>3476773</td>\n",
       "    </tr>\n",
       "    <tr>\n",
       "      <th>3</th>\n",
       "      <td>to</td>\n",
       "      <td>2873389</td>\n",
       "    </tr>\n",
       "    <tr>\n",
       "      <th>4</th>\n",
       "      <td>a</td>\n",
       "      <td>2551033</td>\n",
       "    </tr>\n",
       "    <tr>\n",
       "      <th>...</th>\n",
       "      <td>...</td>\n",
       "      <td>...</td>\n",
       "    </tr>\n",
       "    <tr>\n",
       "      <th>450808</th>\n",
       "      <td>mekin</td>\n",
       "      <td>1</td>\n",
       "    </tr>\n",
       "    <tr>\n",
       "      <th>450809</th>\n",
       "      <td>galaway</td>\n",
       "      <td>1</td>\n",
       "    </tr>\n",
       "    <tr>\n",
       "      <th>450810</th>\n",
       "      <td>chrothane</td>\n",
       "      <td>1</td>\n",
       "    </tr>\n",
       "    <tr>\n",
       "      <th>450811</th>\n",
       "      <td>theydropped</td>\n",
       "      <td>1</td>\n",
       "    </tr>\n",
       "    <tr>\n",
       "      <th>450812</th>\n",
       "      <td>it'sgreat</td>\n",
       "      <td>1</td>\n",
       "    </tr>\n",
       "  </tbody>\n",
       "</table>\n",
       "<p>450813 rows × 2 columns</p>\n",
       "</div>"
      ],
      "text/plain": [
       "                  0        1\n",
       "0               you  4621939\n",
       "1               the  3957465\n",
       "2                 i  3476773\n",
       "3                to  2873389\n",
       "4                 a  2551033\n",
       "...             ...      ...\n",
       "450808        mekin        1\n",
       "450809      galaway        1\n",
       "450810    chrothane        1\n",
       "450811  theydropped        1\n",
       "450812    it'sgreat        1\n",
       "\n",
       "[450813 rows x 2 columns]"
      ]
     },
     "execution_count": 27,
     "metadata": {},
     "output_type": "execute_result"
    }
   ],
   "source": [
    "df"
   ]
  },
  {
   "cell_type": "code",
   "execution_count": 29,
   "id": "4f07299a",
   "metadata": {},
   "outputs": [
    {
     "data": {
      "text/plain": [
       "450813"
      ]
     },
     "execution_count": 29,
     "metadata": {},
     "output_type": "execute_result"
    }
   ],
   "source": [
    "len(df)"
   ]
  },
  {
   "cell_type": "code",
   "execution_count": 34,
   "id": "19ec27ba",
   "metadata": {},
   "outputs": [],
   "source": [
    "df.word = df.word.astype(str) #přetypuje vše na string"
   ]
  },
  {
   "cell_type": "code",
   "execution_count": 35,
   "id": "4457dc12",
   "metadata": {
    "scrolled": true
   },
   "outputs": [
    {
     "name": "stdout",
     "output_type": "stream",
     "text": [
      "52175\n"
     ]
    }
   ],
   "source": [
    "i=0\n",
    "for row in df.word:\n",
    "    string = row\n",
    "    if \"'\" in string:\n",
    "        i+=1\n",
    "print(i)"
   ]
  },
  {
   "cell_type": "code",
   "execution_count": 37,
   "id": "6f3a8794",
   "metadata": {},
   "outputs": [
    {
     "data": {
      "text/html": [
       "<div>\n",
       "<style scoped>\n",
       "    .dataframe tbody tr th:only-of-type {\n",
       "        vertical-align: middle;\n",
       "    }\n",
       "\n",
       "    .dataframe tbody tr th {\n",
       "        vertical-align: top;\n",
       "    }\n",
       "\n",
       "    .dataframe thead th {\n",
       "        text-align: right;\n",
       "    }\n",
       "</style>\n",
       "<table border=\"1\" class=\"dataframe\">\n",
       "  <thead>\n",
       "    <tr style=\"text-align: right;\">\n",
       "      <th></th>\n",
       "      <th>word</th>\n",
       "      <th>count</th>\n",
       "    </tr>\n",
       "  </thead>\n",
       "  <tbody>\n",
       "    <tr>\n",
       "      <th>22</th>\n",
       "      <td>don't</td>\n",
       "      <td>764177</td>\n",
       "    </tr>\n",
       "    <tr>\n",
       "      <th>25</th>\n",
       "      <td>i'm</td>\n",
       "      <td>741643</td>\n",
       "    </tr>\n",
       "    <tr>\n",
       "      <th>29</th>\n",
       "      <td>it's</td>\n",
       "      <td>688371</td>\n",
       "    </tr>\n",
       "    <tr>\n",
       "      <th>47</th>\n",
       "      <td>you're</td>\n",
       "      <td>429615</td>\n",
       "    </tr>\n",
       "    <tr>\n",
       "      <th>54</th>\n",
       "      <td>that's</td>\n",
       "      <td>365560</td>\n",
       "    </tr>\n",
       "    <tr>\n",
       "      <th>...</th>\n",
       "      <td>...</td>\n",
       "      <td>...</td>\n",
       "    </tr>\n",
       "    <tr>\n",
       "      <th>450799</th>\n",
       "      <td>seol's</td>\n",
       "      <td>1</td>\n",
       "    </tr>\n",
       "    <tr>\n",
       "      <th>450801</th>\n",
       "      <td>ch'entrate</td>\n",
       "      <td>1</td>\n",
       "    </tr>\n",
       "    <tr>\n",
       "      <th>450803</th>\n",
       "      <td>naveed's</td>\n",
       "      <td>1</td>\n",
       "    </tr>\n",
       "    <tr>\n",
       "      <th>450806</th>\n",
       "      <td>rebuild's</td>\n",
       "      <td>1</td>\n",
       "    </tr>\n",
       "    <tr>\n",
       "      <th>450812</th>\n",
       "      <td>it'sgreat</td>\n",
       "      <td>1</td>\n",
       "    </tr>\n",
       "  </tbody>\n",
       "</table>\n",
       "<p>52175 rows × 2 columns</p>\n",
       "</div>"
      ],
      "text/plain": [
       "              word   count\n",
       "22           don't  764177\n",
       "25             i'm  741643\n",
       "29            it's  688371\n",
       "47          you're  429615\n",
       "54          that's  365560\n",
       "...            ...     ...\n",
       "450799      seol's       1\n",
       "450801  ch'entrate       1\n",
       "450803    naveed's       1\n",
       "450806   rebuild's       1\n",
       "450812   it'sgreat       1\n",
       "\n",
       "[52175 rows x 2 columns]"
      ]
     },
     "execution_count": 37,
     "metadata": {},
     "output_type": "execute_result"
    }
   ],
   "source": [
    "df[df.word.apply(lambda x : \"'\" in x)]"
   ]
  },
  {
   "cell_type": "code",
   "execution_count": 40,
   "id": "57f6c029",
   "metadata": {},
   "outputs": [
    {
     "name": "stdout",
     "output_type": "stream",
     "text": [
      "52175\n"
     ]
    }
   ],
   "source": [
    "import re\n",
    "i = 0\n",
    "for row in df.word:\n",
    "    string = row\n",
    "    match = re.search(\"'\",string)\n",
    "    if match:\n",
    "        i += 1\n",
    "print(i)  "
   ]
  },
  {
   "cell_type": "code",
   "execution_count": 45,
   "id": "5bd5d9df",
   "metadata": {},
   "outputs": [
    {
     "data": {
      "text/html": [
       "<div>\n",
       "<style scoped>\n",
       "    .dataframe tbody tr th:only-of-type {\n",
       "        vertical-align: middle;\n",
       "    }\n",
       "\n",
       "    .dataframe tbody tr th {\n",
       "        vertical-align: top;\n",
       "    }\n",
       "\n",
       "    .dataframe thead th {\n",
       "        text-align: right;\n",
       "    }\n",
       "</style>\n",
       "<table border=\"1\" class=\"dataframe\">\n",
       "  <thead>\n",
       "    <tr style=\"text-align: right;\">\n",
       "      <th></th>\n",
       "      <th>word</th>\n",
       "      <th>count</th>\n",
       "    </tr>\n",
       "  </thead>\n",
       "  <tbody>\n",
       "    <tr>\n",
       "      <th>0</th>\n",
       "      <td>you</td>\n",
       "      <td>4621939</td>\n",
       "    </tr>\n",
       "    <tr>\n",
       "      <th>1</th>\n",
       "      <td>the</td>\n",
       "      <td>3957465</td>\n",
       "    </tr>\n",
       "    <tr>\n",
       "      <th>2</th>\n",
       "      <td>i</td>\n",
       "      <td>3476773</td>\n",
       "    </tr>\n",
       "    <tr>\n",
       "      <th>3</th>\n",
       "      <td>to</td>\n",
       "      <td>2873389</td>\n",
       "    </tr>\n",
       "    <tr>\n",
       "      <th>4</th>\n",
       "      <td>a</td>\n",
       "      <td>2551033</td>\n",
       "    </tr>\n",
       "    <tr>\n",
       "      <th>...</th>\n",
       "      <td>...</td>\n",
       "      <td>...</td>\n",
       "    </tr>\n",
       "    <tr>\n",
       "      <th>315587</th>\n",
       "      <td>etancelin</td>\n",
       "      <td>1</td>\n",
       "    </tr>\n",
       "    <tr>\n",
       "      <th>315588</th>\n",
       "      <td>cheongsams</td>\n",
       "      <td>1</td>\n",
       "    </tr>\n",
       "    <tr>\n",
       "      <th>315589</th>\n",
       "      <td>androdyne</td>\n",
       "      <td>1</td>\n",
       "    </tr>\n",
       "    <tr>\n",
       "      <th>315590</th>\n",
       "      <td>triode</td>\n",
       "      <td>1</td>\n",
       "    </tr>\n",
       "    <tr>\n",
       "      <th>450812</th>\n",
       "      <td>it'sgreat</td>\n",
       "      <td>1</td>\n",
       "    </tr>\n",
       "  </tbody>\n",
       "</table>\n",
       "<p>450813 rows × 2 columns</p>\n",
       "</div>"
      ],
      "text/plain": [
       "              word    count\n",
       "0              you  4621939\n",
       "1              the  3957465\n",
       "2                i  3476773\n",
       "3               to  2873389\n",
       "4                a  2551033\n",
       "...            ...      ...\n",
       "315587   etancelin        1\n",
       "315588  cheongsams        1\n",
       "315589   androdyne        1\n",
       "315590      triode        1\n",
       "450812   it'sgreat        1\n",
       "\n",
       "[450813 rows x 2 columns]"
      ]
     },
     "execution_count": 45,
     "metadata": {},
     "output_type": "execute_result"
    }
   ],
   "source": [
    "df.sort_values( by = \"count\" )"
   ]
  },
  {
   "cell_type": "code",
   "execution_count": null,
   "id": "6bec4566",
   "metadata": {},
   "outputs": [],
   "source": []
  }
 ],
 "metadata": {
  "kernelspec": {
   "display_name": "Python 3 (ipykernel)",
   "language": "python",
   "name": "python3"
  },
  "language_info": {
   "codemirror_mode": {
    "name": "ipython",
    "version": 3
   },
   "file_extension": ".py",
   "mimetype": "text/x-python",
   "name": "python",
   "nbconvert_exporter": "python",
   "pygments_lexer": "ipython3",
   "version": "3.11.7"
  }
 },
 "nbformat": 4,
 "nbformat_minor": 5
}
