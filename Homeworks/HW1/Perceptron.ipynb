{
 "cells": [
  {
   "cell_type": "code",
   "execution_count": 4,
   "id": "e8a6e416-f13c-472a-8cc8-d638055128d1",
   "metadata": {},
   "outputs": [],
   "source": [
    "import numpy as np\n",
    "from sklearn import datasets\n",
    "import matplotlib.pyplot as plt\n",
    "\n",
    "\n",
    "%matplotlib inline\n",
    "plt.rcParams['figure.figsize'] = [10, 7]"
   ]
  },
  {
   "cell_type": "code",
   "execution_count": 5,
   "id": "ee3c9a2d-c65a-4a72-a1cc-48e694022e45",
   "metadata": {},
   "outputs": [
    {
     "data": {
      "text/plain": [
       "Text(0.5, 1.0, 'Binary data')"
      ]
     },
     "execution_count": 5,
     "metadata": {},
     "output_type": "execute_result"
    },
    {
     "data": {
      "image/png": "[encoded data removed]",
      "text/plain": [
       "<Figure size 1000x700 with 1 Axes>"
      ]
     },
     "metadata": {},
     "output_type": "display_data"
    }
   ],
   "source": [
    "X, y = datasets.make_blobs(n_samples=100, n_features=2, centers=2, cluster_std=1.05, random_state=6)\n",
    "\n",
    "plt.plot(X[:, 0][y == 0], X[:, 1][y == 0], 'r^')\n",
    "plt.plot(X[:, 0][y == 1], X[:, 1][y == 1], 'bs')\n",
    "plt.xlabel(\"feature_1\")\n",
    "plt.ylabel(\"feature_2\")\n",
    "plt.title('Binary data')"
   ]
  },
  {
   "cell_type": "code",
   "execution_count": 31,
   "id": "8faadc7f-8e32-4126-9229-1391620149d6",
   "metadata": {},
   "outputs": [
    {
     "data": {
      "text/plain": [
       "array([[  8.23391253,  -2.23303848],\n",
       "       [  5.37939165,  -9.285901  ],\n",
       "       [  7.46292307,  -2.94421794],\n",
       "       [  7.93713702,  -3.52328846],\n",
       "       [  7.26765861,  -4.44559979],\n",
       "       [  5.62440471,  -2.57138262],\n",
       "       [  7.9738876 ,  -3.22479508],\n",
       "       [  6.7170251 ,  -9.61498462],\n",
       "       [  7.83664262,  -1.6144189 ],\n",
       "       [  7.6867177 ,  -2.59725344],\n",
       "       [  6.36198402,  -8.96219074],\n",
       "       [  9.31149002,  -3.90601233],\n",
       "       [  9.13660771,  -4.2607804 ],\n",
       "       [  7.15170022,  -8.15666749],\n",
       "       [  5.1631635 ,  -8.22983212],\n",
       "       [  8.22841018,  -4.03590805],\n",
       "       [  6.9673219 ,  -8.19076725],\n",
       "       [  6.54701452,  -9.88243768],\n",
       "       [  9.49991717,  -2.61206354],\n",
       "       [  5.95707618,  -9.31512467],\n",
       "       [  5.14087796,  -8.30211426],\n",
       "       [  8.08591486,  -4.30445028],\n",
       "       [  7.80760412,  -4.88189567],\n",
       "       [  8.04230789,  -2.21105246],\n",
       "       [  7.24634437,  -9.68415695],\n",
       "       [  6.36148522,  -9.76298019],\n",
       "       [  6.47871095,  -9.3966341 ],\n",
       "       [  8.75731303,  -2.37014996],\n",
       "       [  6.54525328,  -9.58082236],\n",
       "       [  6.85882397,  -9.55811311],\n",
       "       [  5.42360038, -10.29253621],\n",
       "       [  6.50238508,  -7.03376912],\n",
       "       [  8.41196114,  -2.37358786],\n",
       "       [  6.3362029 ,  -9.63706147],\n",
       "       [  6.34087053,  -8.24976872],\n",
       "       [  7.50452733,  -2.06077916],\n",
       "       [  6.93728078,  -8.04224227],\n",
       "       [  7.11470291,  -9.6620619 ],\n",
       "       [  7.35584157,  -3.24224773],\n",
       "       [  4.41486025,  -9.31296492],\n",
       "       [  7.12404828, -10.00212815],\n",
       "       [  9.04061994,  -4.95020178],\n",
       "       [  6.72580572,  -9.11161481],\n",
       "       [  8.77518484,  -4.13695457],\n",
       "       [  5.61826346,  -3.17784767],\n",
       "       [  8.32647787,  -4.42578428],\n",
       "       [  9.43512784,  -3.9856366 ],\n",
       "       [  8.40629565,  -3.9818742 ],\n",
       "       [  7.24125942,  -4.91634983],\n",
       "       [  9.57845867,  -3.81179218],\n",
       "       [  5.91591458,  -7.73498274],\n",
       "       [  6.79772155, -10.94993305],\n",
       "       [  7.72412983,  -4.79744736],\n",
       "       [  7.03804328,  -2.35701382],\n",
       "       [  7.89519299,  -8.76212404],\n",
       "       [  6.43290343,  -3.84721746],\n",
       "       [  6.09436604,  -9.31829184],\n",
       "       [  7.6671461 ,  -2.79949439],\n",
       "       [  8.30480268,  -4.15646878],\n",
       "       [  6.08474054,  -7.83665895],\n",
       "       [  8.03953904,  -4.44760989],\n",
       "       [  7.59606093,  -8.33225907],\n",
       "       [  7.28956563,  -2.52752042],\n",
       "       [  7.02156353, -10.01128134],\n",
       "       [  6.58490462, -10.88031911],\n",
       "       [  8.72308957,  -4.59565695],\n",
       "       [  5.43188221,  -8.02021669],\n",
       "       [  8.22975207,  -1.45718406],\n",
       "       [  5.89510213,  -8.06093206],\n",
       "       [  7.97736653,  -3.38345841],\n",
       "       [  5.24608334,  -2.4014898 ],\n",
       "       [  7.88934188,  -3.67277806],\n",
       "       [  5.18094476,  -9.72064932],\n",
       "       [  8.52313964,  -2.50921614],\n",
       "       [  7.30288105, -10.61306658],\n",
       "       [  5.39061813,  -9.38722581],\n",
       "       [  2.54983502,  -8.60553382],\n",
       "       [  7.3684193 ,  -3.11500777],\n",
       "       [  7.36218444,  -0.90696569],\n",
       "       [  6.84065851,  -3.18498383],\n",
       "       [  6.08840785,  -9.78892311],\n",
       "       [  7.10004898,  -9.63635729],\n",
       "       [  7.0670716 ,  -9.44940375],\n",
       "       [  6.51991927,  -8.88228757],\n",
       "       [  9.85718247,  -2.63154309],\n",
       "       [  5.62370125,  -4.23653174],\n",
       "       [  9.39967129,  -1.52341173],\n",
       "       [  8.85596435,  -2.89641164],\n",
       "       [  7.81920377,  -3.45579323],\n",
       "       [  4.90215814, -12.00834481],\n",
       "       [  5.5637022 ,  -9.02041811],\n",
       "       [  7.86327306,  -8.01143148],\n",
       "       [ 10.62004761,  -2.72849053],\n",
       "       [  6.22754213, -10.72677919],\n",
       "       [  6.75542238, -10.23146626],\n",
       "       [  8.32349015,  -4.26006767],\n",
       "       [  5.72787188,  -9.62149079],\n",
       "       [  8.8805684 ,  -9.49505649],\n",
       "       [  5.84366314,  -9.5586739 ],\n",
       "       [  6.89960345,  -9.49100318]])"
      ]
     },
     "execution_count": 31,
     "metadata": {},
     "output_type": "execute_result"
    }
   ],
   "source": []
  },
  {
   "cell_type": "code",
   "execution_count": 8,
   "id": "b10f7ec5-75fb-4762-8306-253594dbf0b5",
   "metadata": {},
   "outputs": [],
   "source": [
    "def classifier(x):\n",
    "    if x >= 0:\n",
    "        return 1\n",
    "    return 0"
   ]
  },
  {
   "cell_type": "code",
   "execution_count": 13,
   "id": "ae6cc0b7-ad1a-4bf3-8142-c33e71257b23",
   "metadata": {},
   "outputs": [],
   "source": [
    "def prediction(X, W, b):\n",
    "    return classifier((np.matmul(X,W) + b)[0])"
   ]
  },
  {
   "cell_type": "code",
   "execution_count": 32,
   "id": "bbc57a16-c920-4023-af46-91392db1da09",
   "metadata": {},
   "outputs": [],
   "source": [
    "def perceptron_step(X, y, W, b, lr=0.001):\n",
    "    for i in range(len(X)):\n",
    "        output = prediction(X[i], W, b)\n",
    "        if output - y[i] == 1:\n",
    "            W[0] -= X[i][0]*lr\n",
    "            W[i] -= X[i][1]*lr\n",
    "            b -= lr            \n",
    "        elif output - y[i] == -1:\n",
    "            W[0] += X[i][0]*lr\n",
    "            W[i] += X[i][1]*lr\n",
    "            b[i] += lr\n",
    "    return W, b    \n",
    "    \n",
    "        "
   ]
  },
  {
   "cell_type": "code",
   "execution_count": 27,
   "id": "15f268d9-a46f-413c-abe6-81f8c5ec83db",
   "metadata": {},
   "outputs": [],
   "source": [
    "def measure(X, y):\n",
    "    all = len(X)\n",
    "    count = 0\n",
    "    for i in range(all):\n",
    "        if predicition == y:\n",
    "            count += 1\n",
    "    return count/all"
   ]
  },
  {
   "cell_type": "code",
   "execution_count": 33,
   "id": "5fff6edb-47a3-4670-965d-b3b40ea3ddeb",
   "metadata": {},
   "outputs": [],
   "source": [
    "class Perceptron():\n",
    "    def __init__():\n",
    "        self.W = np.ones[2, 1]\n",
    "        self.b = np.ones[1]"
   ]
  }
 ],
 "metadata": {
  "kernelspec": {
   "display_name": "Python 3 (ipykernel)",
   "language": "python",
   "name": "python3"
  },
  "language_info": {
   "codemirror_mode": {
    "name": "ipython",
    "version": 3
   },
   "file_extension": ".py",
   "mimetype": "text/x-python",
   "name": "python",
   "nbconvert_exporter": "python",
   "pygments_lexer": "ipython3",
   "version": "3.11.7"
  }
 },
 "nbformat": 4,
 "nbformat_minor": 5
}
