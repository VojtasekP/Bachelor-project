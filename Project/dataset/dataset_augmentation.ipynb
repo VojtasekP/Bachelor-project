{
 "cells": [
  {
   "cell_type": "code",
   "id": "initial_id",
   "metadata": {
    "collapsed": true,
    "ExecuteTime": {
     "end_time": "2024-06-14T15:10:33.159888Z",
     "start_time": "2024-06-14T15:10:31.128773Z"
    }
   },
   "source": [
    "import numpy as np\n",
    "from signal_model import NeuroNet, load_yaml\n",
    "import re\n",
    "from pathlib import Path\n",
    "from dataset.signal_dataset import SignalDataset\n",
    "import torch\n",
    "from torch.utils.data import DataLoader\n",
    "from sklearn.metrics import classification_report"
   ],
   "outputs": [],
   "execution_count": 2
  },
  {
   "metadata": {
    "ExecuteTime": {
     "end_time": "2024-06-14T15:10:33.174355Z",
     "start_time": "2024-06-14T15:10:33.160914Z"
    }
   },
   "cell_type": "code",
   "source": [
    "\n",
    "\n",
    "sample_rate = 1562500\n",
    "channel_1 = 'ch1'\n",
    "channel_2 = 'ch2'\n",
    "channel_3 = 'ch3'\n",
    "signal_data_dir = \"/mnt/home2/Motor_project/AE_PETR_loziska/\"\n",
    "train_config = ([{\"label\": (int(i.stem) - 1) // 4,\n",
    "                  \"channels\": len(list(i.glob('*' + channel_1 + '.bin'))),\n",
    "                  \"interval\": [0, int(4.5 * sample_rate)],\n",
    "                  \"bin_path\": list(i.glob('*' + channel_1 + '.bin'))[0]}\n",
    "                 for i in Path(signal_data_dir).glob('*') if re.search(r'\\d$', i.stem)]\n",
    "                +\n",
    "                [{\"label\": (int(i.stem) - 1) // 4,\n",
    "                  \"channels\": len(list(i.glob('*' + channel_2 + '.bin'))),\n",
    "                  \"interval\": [0, int(4.5 * sample_rate)],\n",
    "                  \"bin_path\": list(i.glob('*' + channel_2 + '.bin'))[0]}\n",
    "                 for i in Path(signal_data_dir).glob('*') if re.search(r'\\d$', i.stem)]\n",
    "                +\n",
    "                [{\"label\": (int(i.stem) - 1) // 4,\n",
    "                  \"channels\": len(list(i.glob('*' + channel_3 + '.bin'))),\n",
    "                  \"interval\": [0, int(4.5 * sample_rate)],\n",
    "                  \"bin_path\": list(i.glob('*' + channel_3 + '.bin'))[0]}\n",
    "                 for i in Path(signal_data_dir).glob('*') if re.search(r'\\d$', i.stem)])\n",
    "\n",
    "test_config = ([{\"label\": (int(i.stem) - 1) // 4,\n",
    "                 \"channels\": len(list(i.glob('*' + channel_1 + '.bin'))),\n",
    "                 \"interval\": [int(4.5 * sample_rate), int(5 * sample_rate)],\n",
    "                 \"bin_path\": list(i.glob('*' + channel_1 + '.bin'))[0]}\n",
    "                for i in Path(signal_data_dir).glob('*') if re.search(r'\\d$', i.stem)]\n",
    "               +\n",
    "               [{\"label\": (int(i.stem) - 1) // 4,\n",
    "                 \"channels\": len(list(i.glob('*' + channel_2 + '.bin'))),\n",
    "                 \"interval\": [int(4.5 * sample_rate), int(5 * sample_rate)],\n",
    "                 \"bin_path\": list(i.glob('*' + channel_2 + '.bin'))[0]}\n",
    "                for i in Path(signal_data_dir).glob('*') if re.search(r'\\d$', i.stem)]\n",
    "               +\n",
    "               [{\"label\": (int(i.stem) - 1) // 4,\n",
    "                 \"channels\": len(list(i.glob('*' + channel_3 + '.bin'))),\n",
    "                 \"interval\": [int(4.5 * sample_rate), int(5 * sample_rate)],\n",
    "                 \"bin_path\": list(i.glob('*' + channel_3 + '.bin'))[0]}\n",
    "                for i in Path(signal_data_dir).glob('*') if re.search(r'\\d$', i.stem)])"
   ],
   "id": "1b98fe1afc636c82",
   "outputs": [],
   "execution_count": 3
  },
  {
   "metadata": {
    "ExecuteTime": {
     "end_time": "2024-06-14T15:11:11.968368Z",
     "start_time": "2024-06-14T15:11:07.302084Z"
    }
   },
   "cell_type": "code",
   "source": [
    "noise_config = {\"intensity\": 1,\n",
    "                \"bin_path\": Path(\"/mnt/home2/Motor_project/AE_PETR_loziska/prevodovka/AE-DATA-conti-7394086655261458-ch1.bin\")}\n",
    "\n",
    "train_set = SignalDataset(step=10000, window_size=10000, bin_setup=train_config, noise = noise_config, source_dtype=\"float32\")\n",
    "test_set = SignalDataset(step=10000, window_size=10000, bin_setup=test_config, source_dtype=\"float32\")\n"
   ],
   "id": "cde5df8cbfb1aaf4",
   "outputs": [],
   "execution_count": 10
  },
  {
   "metadata": {
    "ExecuteTime": {
     "end_time": "2024-06-14T15:11:01.877804Z",
     "start_time": "2024-06-14T15:11:01.873080Z"
    }
   },
   "cell_type": "code",
   "source": "len(train_set)",
   "id": "68995df97b8a8a12",
   "outputs": [
    {
     "data": {
      "text/plain": [
       "442386"
      ]
     },
     "execution_count": 9,
     "metadata": {},
     "output_type": "execute_result"
    }
   ],
   "execution_count": 9
  },
  {
   "metadata": {
    "ExecuteTime": {
     "end_time": "2024-06-14T10:56:46.407160Z",
     "start_time": "2024-06-14T10:56:45.981807Z"
    }
   },
   "cell_type": "code",
   "source": [
    "def get_mean_and_std(dataset):\n",
    "    loader = DataLoader(dataset, batch_size=64, shuffle=False)\n",
    "    \n",
    "    mean = 0.0\n",
    "    std = 0.0\n",
    "    nb_samples = 0\n",
    "    \n",
    "    for data in loader:\n",
    "        batch_samples = data[0].shape[0] # batch size (the last batch can have smaller size)\n",
    "        # data = data.view(batch_samples, data[0].shape(1), -1)\n",
    "        mean += data[0]._mean(2).sum(0)\n",
    "        std += data[0]._std(2).sum(0)\n",
    "        nb_samples += batch_samples\n",
    "    print(nb_samples)\n",
    "    mean /= nb_samples\n",
    "    std /= nb_samples\n",
    "    \n",
    "    return mean, std\n",
    "\n",
    "# Assuming your dataset is created and named custom_dataset\n",
    "mean, std = get_mean_and_std(train_set)\n",
    "\n",
    "print(f'Mean: {mean}')\n",
    "print(f'Standard Deviation: {std}')"
   ],
   "id": "59f4d15cc2348df5",
   "outputs": [
    {
     "name": "stdout",
     "output_type": "stream",
     "text": [
      "32802\n",
      "Mean: tensor([0.0011])\n",
      "Standard Deviation: tensor([0.0229])\n"
     ]
    }
   ],
   "execution_count": 13
  },
  {
   "metadata": {
    "ExecuteTime": {
     "end_time": "2024-06-14T10:56:41.140830Z",
     "start_time": "2024-06-14T10:56:40.941877Z"
    }
   },
   "cell_type": "code",
   "source": [
    "test_mean, test_std = get_mean_and_std(test_set)\n",
    "print(f'Mean: {test_mean}')\n",
    "print(f'Standard Deviation: {test_std}')"
   ],
   "id": "f7b6cbe18418346c",
   "outputs": [
    {
     "name": "stdout",
     "output_type": "stream",
     "text": [
      "16401\n",
      "Mean: tensor([0.0002])\n",
      "Standard Deviation: tensor([0.0055])\n"
     ]
    }
   ],
   "execution_count": 12
  },
  {
   "metadata": {
    "ExecuteTime": {
     "end_time": "2024-06-14T10:29:23.077713Z",
     "start_time": "2024-06-14T10:29:23.072552Z"
    }
   },
   "cell_type": "code",
   "source": "torch.from_numpy(train_set_set[0][0])- mean",
   "id": "ca7aef84513ede8d",
   "outputs": [
    {
     "data": {
      "text/plain": [
       "tensor([[-0.0001, -0.0011, -0.0033,  ..., -0.0021, -0.0004,  0.0006]])"
      ]
     },
     "execution_count": 39,
     "metadata": {},
     "output_type": "execute_result"
    }
   ],
   "execution_count": 39
  },
  {
   "metadata": {
    "ExecuteTime": {
     "end_time": "2024-06-14T10:29:46.658292Z",
     "start_time": "2024-06-14T10:29:46.653822Z"
    }
   },
   "cell_type": "code",
   "source": "train_set[0][0]",
   "id": "287a5a38eabbba92",
   "outputs": [
    {
     "data": {
      "text/plain": [
       "array([[-0.00395331, -0.00288655, -0.00213353, ...,  0.01763303,\n",
       "         0.01750753,  0.01913906]], dtype=float32)"
      ]
     },
     "execution_count": 40,
     "metadata": {},
     "output_type": "execute_result"
    }
   ],
   "execution_count": 40
  },
  {
   "metadata": {},
   "cell_type": "code",
   "outputs": [],
   "execution_count": null,
   "source": [
    "\n",
    "nn_config = load_yaml(Path(\"nn_configs/CNN_spec.yaml\"))\n",
    "neuro_net = NeuroNet(config=nn_config, tensorboard=True)\n",
    "\n",
    "neuro_net.train(train_set)\n",
    "\n"
   ],
   "id": "e1ff7149fa85c97"
  },
  {
   "metadata": {},
   "cell_type": "code",
   "outputs": [],
   "execution_count": null,
   "source": [
    "test_dataloader = DataLoader(test_set, batch_size=512, shuffle=False)\n",
    "outputs = np.empty((0,), dtype=np.float32)\n",
    "targets = np.empty((0,), dtype=np.longdouble).flatten()\n",
    "for i, (input, target) in enumerate(test_dataloader):\n",
    "    input, target = input.numpy(), target.numpy()\n",
    "    output = neuro_net.predict(input)\n",
    "    outputs = np.concatenate((outputs, output), axis=0)\n",
    "    targets = np.concatenate((targets, target), axis=0)\n",
    "neuro_net.plot_confusion_matrix(outputs, targets)"
   ],
   "id": "1504d1571e3dd7ca"
  },
  {
   "metadata": {},
   "cell_type": "code",
   "outputs": [],
   "execution_count": null,
   "source": "cr = classification_report(targets, outputs, zero_division=0)",
   "id": "95243ab57ac98898"
  }
 ],
 "metadata": {
  "kernelspec": {
   "display_name": "Python 3",
   "language": "python",
   "name": "python3"
  },
  "language_info": {
   "codemirror_mode": {
    "name": "ipython",
    "version": 2
   },
   "file_extension": ".py",
   "mimetype": "text/x-python",
   "name": "python",
   "nbconvert_exporter": "python",
   "pygments_lexer": "ipython2",
   "version": "2.7.6"
  }
 },
 "nbformat": 4,
 "nbformat_minor": 5
}
