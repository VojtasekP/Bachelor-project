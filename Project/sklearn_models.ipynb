{
 "cells": [
  {
   "cell_type": "code",
   "execution_count": 1,
   "id": "initial_id",
   "metadata": {
    "collapsed": true,
    "ExecuteTime": {
     "end_time": "2024-04-04T17:22:19.158609Z",
     "start_time": "2024-04-04T17:22:17.511066Z"
    }
   },
   "outputs": [],
   "source": [
    "import numpy as np\n",
    "import pandas as pd\n",
    "from sklearn.dummy import DummyClassifier\n",
    "from sklearn.ensemble import RandomForestClassifier\n",
    "from sklearn.svm import SVC\n",
    "from sklearn.pipeline import Pipeline\n",
    "from signal_dataset import SignalDataset\n",
    "from sklearn.model_selection import train_test_split\n",
    "import re\n",
    "from pathlib import Path\n",
    "from sklearn.base import BaseEstimator, ClassifierMixin\n",
    "from sklearn.utils.validation import check_X_y\n",
    "import yaml"
   ]
  },
  {
   "cell_type": "code",
   "outputs": [],
   "source": [
    "sr = 1562500\n",
    "signal_data_dir = \"/home/petr/Documents/Motor_project/AE_PETR_motor/\"\n",
    "bin_setup = [{\"label\": i.stem, \"channels\": len(list(i.glob('*.bin'))), \"interval\": [0, 15 * sr], \"bin_path\": list(i.glob('*.bin'))[0]} for i in\n",
    "             Path(signal_data_dir).glob('WUP*') if re.search(r'\\d$', i.stem)]\n",
    "\n",
    "sd = SignalDataset(step=1000, window_size=1000, bin_setup=bin_setup, device=\"cpu\", source_dtype=\"float32\", sklearn=True)"
   ],
   "metadata": {
    "collapsed": false,
    "ExecuteTime": {
     "end_time": "2024-04-04T17:29:52.878872Z",
     "start_time": "2024-04-04T17:29:50.604663Z"
    }
   },
   "id": "612489b2d8ddfe1",
   "execution_count": 20
  },
  {
   "cell_type": "code",
   "outputs": [],
   "source": [
    "from torch.utils.data import random_split\n",
    "train_data, test_data = random_split(sd, [0.8, 0.2])"
   ],
   "metadata": {
    "collapsed": false,
    "ExecuteTime": {
     "end_time": "2024-04-02T16:40:18.108142Z",
     "start_time": "2024-04-02T16:40:18.096941Z"
    }
   },
   "id": "8eb748244b3a5544",
   "execution_count": 4
  },
  {
   "cell_type": "code",
   "outputs": [],
   "source": "",
   "metadata": {
    "collapsed": false,
    "ExecuteTime": {
     "end_time": "2024-04-02T16:40:18.633524Z",
     "start_time": "2024-04-02T16:40:18.109199Z"
    }
   },
   "id": "972b69c6883322b6",
   "execution_count": 5
  },
  {
   "metadata": {},
   "cell_type": "code",
   "outputs": [],
   "execution_count": null,
   "source": [
    "from sklearn.linear_model import LinearRegression\n",
    "\n",
    "\n",
    "class SklearnModel(BaseEstimator, ClassifierMixin):\n",
    "    def __init__(self, control_center: Path):\n",
    "        self.control_center = control_center\n",
    "        self._load_yaml(control_center)\n",
    "        self.model = self._build_model()\n",
    "    def _load_yaml(self, control_center):\n",
    "        with control_center.open(mode=\"r\") as yaml_file:\n",
    "            self.config = yaml.load(yaml_file, Loader=yaml.SafeLoader)\n",
    "            self.model_config = self.config[\"model\"]\n",
    "    def _build_model(self):\n",
    "        match self.model_config[\"class\"]:\n",
    "            case \"SVM\":\n",
    "                return SVC(kernel=self.model_config[\"kernel\"], C=self.model_config[\"C\"])\n",
    "            case \"LinearRegression\":\n",
    "                return LinearRegression()\n",
    "            case \"RandomForest\":\n",
    "                return RandomForestClassifier()\n",
    "            case \"DummyClassifier\":\n",
    "                return DummyClassifier()\n",
    "\n",
    "    def train_model(self, train_data):\n",
    "        X_train = np.asarray([data[0] for data in train_data]) \n",
    "        y_train = np.asarray([data[1] for data in train_data]) \n",
    "\n",
    "        \n",
    "        self.classes_ = np.unique(y_train)\n",
    "        self.model.fit(X_train, y_train)\n",
    "    \n",
    "    def predict(self, test_data):\n",
    "        X_test = np.asarray([data[0] for data in test_data]) \n",
    "        self.model.predict(X_test)"
   ],
   "id": "ced38c2cfb5a9fa"
  },
  {
   "metadata": {},
   "cell_type": "code",
   "outputs": [],
   "execution_count": null,
   "source": "",
   "id": "b401eec108a4a504"
  }
 ],
 "metadata": {
  "kernelspec": {
   "display_name": "Python 3",
   "language": "python",
   "name": "python3"
  },
  "language_info": {
   "codemirror_mode": {
    "name": "ipython",
    "version": 2
   },
   "file_extension": ".py",
   "mimetype": "text/x-python",
   "name": "python",
   "nbconvert_exporter": "python",
   "pygments_lexer": "ipython2",
   "version": "2.7.6"
  }
 },
 "nbformat": 4,
 "nbformat_minor": 5
}
