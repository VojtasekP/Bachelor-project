{
 "cells": [
  {
   "cell_type": "code",
   "execution_count": 1,
   "id": "initial_id",
   "metadata": {
    "collapsed": true,
    "ExecuteTime": {
     "end_time": "2024-04-04T17:22:19.158609Z",
     "start_time": "2024-04-04T17:22:17.511066Z"
    }
   },
   "outputs": [],
   "source": [
    "import numpy as np\n",
    "import pandas as pd\n",
    "from sklearn.svm import SVC\n",
    "from sklearn.pipeline import Pipeline\n",
    "from signal_dataset import SignalDataset\n",
    "from sklearn.model_selection import train_test_split\n",
    "import re\n",
    "from pathlib import Path\n",
    "from sklearn.decomposition import PCA\n",
    "from sklearn.metrics import classification_report"
   ]
  },
  {
   "cell_type": "code",
   "outputs": [],
   "source": [
    "sr = 1562500\n",
    "signal_data_dir = \"/home/petr/Documents/Motor_project/AE_PETR_motor/\"\n",
    "bin_setup = [{\"label\": i.stem, \"channels\": len(list(i.glob('*.bin'))), \"interval\": [0, 15 * sr], \"bin_path\": list(i.glob('*.bin'))[0]} for i in\n",
    "             Path(signal_data_dir).glob('WUP*') if re.search(r'\\d$', i.stem)]\n",
    "\n",
    "sd = SignalDataset(step=1000, window_size=1000, bin_setup=bin_setup, device=\"cpu\", source_dtype=\"float32\", sklearn=True)"
   ],
   "metadata": {
    "collapsed": false,
    "ExecuteTime": {
     "end_time": "2024-04-04T17:29:52.878872Z",
     "start_time": "2024-04-04T17:29:50.604663Z"
    }
   },
   "id": "612489b2d8ddfe1",
   "execution_count": 20
  },
  {
   "cell_type": "code",
   "outputs": [
    {
     "data": {
      "text/plain": "[{'label': 'WUP_20',\n  'channels': 1,\n  'interval': [0, 23437500],\n  'bin_path': PosixPath('/home/petr/Documents/Motor_project/AE_PETR_motor/WUP_20/AE-DATA-conti-7392894521898843-ch1.bin')},\n {'label': 'WUP_50',\n  'channels': 1,\n  'interval': [0, 23437500],\n  'bin_path': PosixPath('/home/petr/Documents/Motor_project/AE_PETR_motor/WUP_50/AE-DATA-conti-7392894547392940-ch1.bin')},\n {'label': 'WUP_10',\n  'channels': 1,\n  'interval': [0, 23437500],\n  'bin_path': PosixPath('/home/petr/Documents/Motor_project/AE_PETR_motor/WUP_10/AE-DATA-conti-7392894509828124-ch1.bin')},\n {'label': 'WUP_90',\n  'channels': 1,\n  'interval': [0, 23437500],\n  'bin_path': PosixPath('/home/petr/Documents/Motor_project/AE_PETR_motor/WUP_90/AE-DATA-conti-7392894585243287-ch1.bin')},\n {'label': 'WUP_60',\n  'channels': 1,\n  'interval': [0, 23437500],\n  'bin_path': PosixPath('/home/petr/Documents/Motor_project/AE_PETR_motor/WUP_60/AE-DATA-conti-7392894554399074-ch1.bin')},\n {'label': 'WUP_30',\n  'channels': 1,\n  'interval': [0, 23437500],\n  'bin_path': PosixPath('/home/petr/Documents/Motor_project/AE_PETR_motor/WUP_30/AE-DATA-conti-7392894531335764-ch1.bin')},\n {'label': 'WUP_40',\n  'channels': 1,\n  'interval': [0, 23437500],\n  'bin_path': PosixPath('/home/petr/Documents/Motor_project/AE_PETR_motor/WUP_40/AE-DATA-conti-7392894538992709-ch1.bin')},\n {'label': 'WUP_80',\n  'channels': 1,\n  'interval': [0, 23437500],\n  'bin_path': PosixPath('/home/petr/Documents/Motor_project/AE_PETR_motor/WUP_80/AE-DATA-conti-7392894578780093-ch1.bin')},\n {'label': 'WUP_70',\n  'channels': 1,\n  'interval': [0, 23437500],\n  'bin_path': PosixPath('/home/petr/Documents/Motor_project/AE_PETR_motor/WUP_70/AE-DATA-conti-7392894566852777-ch1.bin')}]"
     },
     "execution_count": 21,
     "metadata": {},
     "output_type": "execute_result"
    }
   ],
   "source": [
    "bin_setup"
   ],
   "metadata": {
    "collapsed": false,
    "ExecuteTime": {
     "end_time": "2024-04-04T17:29:52.882648Z",
     "start_time": "2024-04-04T17:29:52.879939Z"
    }
   },
   "id": "81a147703ff41922",
   "execution_count": 21
  },
  {
   "cell_type": "code",
   "outputs": [],
   "source": [],
   "metadata": {
    "collapsed": false
   },
   "id": "80b997e96e404162"
  },
  {
   "cell_type": "code",
   "outputs": [],
   "source": [
    "from torch.utils.data import random_split\n",
    "train_data, test_data = random_split(sd, [0.8, 0.2])"
   ],
   "metadata": {
    "collapsed": false,
    "ExecuteTime": {
     "end_time": "2024-04-02T16:40:18.108142Z",
     "start_time": "2024-04-02T16:40:18.096941Z"
    }
   },
   "id": "8eb748244b3a5544",
   "execution_count": 4
  },
  {
   "cell_type": "code",
   "outputs": [],
   "source": [
    "X_train = np.asarray([data[0] for data in train_data]) \n",
    "y_train = np.asarray([data[1] for data in train_data]) \n",
    "X_test = np.asarray([data[0] for data in test_data]) \n",
    "y_test = np.asarray([data[1] for data in test_data]) "
   ],
   "metadata": {
    "collapsed": false,
    "ExecuteTime": {
     "end_time": "2024-04-02T16:40:18.633524Z",
     "start_time": "2024-04-02T16:40:18.109199Z"
    }
   },
   "id": "972b69c6883322b6",
   "execution_count": 5
  },
  {
   "cell_type": "code",
   "outputs": [
    {
     "data": {
      "text/plain": "PCA(n_components=100)",
      "text/html": "<style>#sk-container-id-1 {color: black;}#sk-container-id-1 pre{padding: 0;}#sk-container-id-1 div.sk-toggleable {background-color: white;}#sk-container-id-1 label.sk-toggleable__label {cursor: pointer;display: block;width: 100%;margin-bottom: 0;padding: 0.3em;box-sizing: border-box;text-align: center;}#sk-container-id-1 label.sk-toggleable__label-arrow:before {content: \"▸\";float: left;margin-right: 0.25em;color: #696969;}#sk-container-id-1 label.sk-toggleable__label-arrow:hover:before {color: black;}#sk-container-id-1 div.sk-estimator:hover label.sk-toggleable__label-arrow:before {color: black;}#sk-container-id-1 div.sk-toggleable__content {max-height: 0;max-width: 0;overflow: hidden;text-align: left;background-color: #f0f8ff;}#sk-container-id-1 div.sk-toggleable__content pre {margin: 0.2em;color: black;border-radius: 0.25em;background-color: #f0f8ff;}#sk-container-id-1 input.sk-toggleable__control:checked~div.sk-toggleable__content {max-height: 200px;max-width: 100%;overflow: auto;}#sk-container-id-1 input.sk-toggleable__control:checked~label.sk-toggleable__label-arrow:before {content: \"▾\";}#sk-container-id-1 div.sk-estimator input.sk-toggleable__control:checked~label.sk-toggleable__label {background-color: #d4ebff;}#sk-container-id-1 div.sk-label input.sk-toggleable__control:checked~label.sk-toggleable__label {background-color: #d4ebff;}#sk-container-id-1 input.sk-hidden--visually {border: 0;clip: rect(1px 1px 1px 1px);clip: rect(1px, 1px, 1px, 1px);height: 1px;margin: -1px;overflow: hidden;padding: 0;position: absolute;width: 1px;}#sk-container-id-1 div.sk-estimator {font-family: monospace;background-color: #f0f8ff;border: 1px dotted black;border-radius: 0.25em;box-sizing: border-box;margin-bottom: 0.5em;}#sk-container-id-1 div.sk-estimator:hover {background-color: #d4ebff;}#sk-container-id-1 div.sk-parallel-item::after {content: \"\";width: 100%;border-bottom: 1px solid gray;flex-grow: 1;}#sk-container-id-1 div.sk-label:hover label.sk-toggleable__label {background-color: #d4ebff;}#sk-container-id-1 div.sk-serial::before {content: \"\";position: absolute;border-left: 1px solid gray;box-sizing: border-box;top: 0;bottom: 0;left: 50%;z-index: 0;}#sk-container-id-1 div.sk-serial {display: flex;flex-direction: column;align-items: center;background-color: white;padding-right: 0.2em;padding-left: 0.2em;position: relative;}#sk-container-id-1 div.sk-item {position: relative;z-index: 1;}#sk-container-id-1 div.sk-parallel {display: flex;align-items: stretch;justify-content: center;background-color: white;position: relative;}#sk-container-id-1 div.sk-item::before, #sk-container-id-1 div.sk-parallel-item::before {content: \"\";position: absolute;border-left: 1px solid gray;box-sizing: border-box;top: 0;bottom: 0;left: 50%;z-index: -1;}#sk-container-id-1 div.sk-parallel-item {display: flex;flex-direction: column;z-index: 1;position: relative;background-color: white;}#sk-container-id-1 div.sk-parallel-item:first-child::after {align-self: flex-end;width: 50%;}#sk-container-id-1 div.sk-parallel-item:last-child::after {align-self: flex-start;width: 50%;}#sk-container-id-1 div.sk-parallel-item:only-child::after {width: 0;}#sk-container-id-1 div.sk-dashed-wrapped {border: 1px dashed gray;margin: 0 0.4em 0.5em 0.4em;box-sizing: border-box;padding-bottom: 0.4em;background-color: white;}#sk-container-id-1 div.sk-label label {font-family: monospace;font-weight: bold;display: inline-block;line-height: 1.2em;}#sk-container-id-1 div.sk-label-container {text-align: center;}#sk-container-id-1 div.sk-container {/* jupyter's `normalize.less` sets `[hidden] { display: none; }` but bootstrap.min.css set `[hidden] { display: none !important; }` so we also need the `!important` here to be able to override the default hidden behavior on the sphinx rendered scikit-learn.org. See: https://github.com/scikit-learn/scikit-learn/issues/21755 */display: inline-block !important;position: relative;}#sk-container-id-1 div.sk-text-repr-fallback {display: none;}</style><div id=\"sk-container-id-1\" class=\"sk-top-container\"><div class=\"sk-text-repr-fallback\"><pre>PCA(n_components=100)</pre><b>In a Jupyter environment, please rerun this cell to show the HTML representation or trust the notebook. <br />On GitHub, the HTML representation is unable to render, please try loading this page with nbviewer.org.</b></div><div class=\"sk-container\" hidden><div class=\"sk-item\"><div class=\"sk-estimator sk-toggleable\"><input class=\"sk-toggleable__control sk-hidden--visually\" id=\"sk-estimator-id-1\" type=\"checkbox\" checked><label for=\"sk-estimator-id-1\" class=\"sk-toggleable__label sk-toggleable__label-arrow\">PCA</label><div class=\"sk-toggleable__content\"><pre>PCA(n_components=100)</pre></div></div></div></div></div>"
     },
     "execution_count": 6,
     "metadata": {},
     "output_type": "execute_result"
    }
   ],
   "source": [
    "n_components = 100  # Adjust this as needed\n",
    "pca = PCA(n_components=n_components)\n",
    "\n",
    "# Fit PCA to the training data\n",
    "pca.fit(X_train)"
   ],
   "metadata": {
    "collapsed": false,
    "ExecuteTime": {
     "end_time": "2024-04-02T16:40:22.276009Z",
     "start_time": "2024-04-02T16:40:18.982174Z"
    }
   },
   "id": "18e7ec8a6dee3648",
   "execution_count": 6
  },
  {
   "cell_type": "code",
   "outputs": [
    {
     "data": {
      "text/plain": "(168747, 1000)"
     },
     "execution_count": 7,
     "metadata": {},
     "output_type": "execute_result"
    }
   ],
   "source": [
    "X_train.shape"
   ],
   "metadata": {
    "collapsed": false,
    "ExecuteTime": {
     "end_time": "2024-04-02T16:40:44.954099Z",
     "start_time": "2024-04-02T16:40:44.951715Z"
    }
   },
   "id": "5f657407e672e991",
   "execution_count": 7
  },
  {
   "cell_type": "code",
   "outputs": [],
   "source": [
    "model = SVC(kernel=\"linear\")\n",
    "model.fit(X_train, y_train) "
   ],
   "metadata": {
    "collapsed": false,
    "ExecuteTime": {
     "start_time": "2024-04-02T16:40:47.382428Z"
    }
   },
   "id": "ea3339dc7004b645",
   "execution_count": null
  },
  {
   "cell_type": "code",
   "outputs": [],
   "source": [
    "y_pred = model.predict(X_train)"
   ],
   "metadata": {
    "collapsed": false
   },
   "id": "f991700d68b6a0dc"
  },
  {
   "cell_type": "code",
   "outputs": [],
   "source": [
    "\n",
    "\n",
    "# Evaluate accuracy\n",
    "creport = classification_report(y_train, y_pred)\n",
    "print(creport)"
   ],
   "metadata": {
    "collapsed": false
   },
   "id": "571afa6ce5531cff"
  }
 ],
 "metadata": {
  "kernelspec": {
   "display_name": "Python 3",
   "language": "python",
   "name": "python3"
  },
  "language_info": {
   "codemirror_mode": {
    "name": "ipython",
    "version": 2
   },
   "file_extension": ".py",
   "mimetype": "text/x-python",
   "name": "python",
   "nbconvert_exporter": "python",
   "pygments_lexer": "ipython2",
   "version": "2.7.6"
  }
 },
 "nbformat": 4,
 "nbformat_minor": 5
}
