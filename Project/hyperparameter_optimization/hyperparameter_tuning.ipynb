{
 "cells": [
  {
   "cell_type": "code",
   "id": "initial_id",
   "metadata": {
    "collapsed": true,
    "ExecuteTime": {
     "end_time": "2024-06-13T06:21:09.191222Z",
     "start_time": "2024-06-13T06:21:07.418318Z"
    }
   },
   "source": [
    "\n",
    "%load_ext autoreload\n",
    "%autoreload 2\n",
    "\n",
    "import re\n",
    "\n",
    "import numpy as np\n",
    "\n",
    "import torch\n",
    "\n",
    "from matplotlib import pyplot as plt\n",
    "from sklearn.metrics import confusion_matrix, accuracy_score, classification_report\n",
    "from torch.utils.data import DataLoader, Dataset, random_split\n",
    "from torch.utils.tensorboard import SummaryWriter\n",
    "from tqdm import trange\n",
    "import seaborn as sns\n",
    "import networks\n",
    "from signal_dataset import SignalDataset\n",
    "import tsaug\n",
    "import torchaudio.transforms as T\n",
    "\n",
    "import torchaudio\n",
    "import ray\n",
    "from ray import train, tune\n",
    "from ray.train import Checkpoint\n",
    "from ray.tune.schedulers import ASHAScheduler\n",
    "from IPython.display import Audio\n",
    "from matplotlib.patches import Rectangle\n",
    "from signal_model import SignalModel, NeuroNet, load_yaml\n",
    "from pathlib import Path\n",
    "from sklearn.model_selection import KFold\n",
    "import yaml"
   ],
   "outputs": [],
   "execution_count": 2
  },
  {
   "metadata": {
    "ExecuteTime": {
     "end_time": "2024-06-13T06:21:09.799667Z",
     "start_time": "2024-06-13T06:21:09.767620Z"
    }
   },
   "cell_type": "code",
   "source": [
    "loaded_signal = []\n",
    "sample_rate = 1562500\n",
    "channel_1 = 'ch1'\n",
    "channel_2 = 'ch2'\n",
    "channel_3 = 'ch3'\n",
    "signal_data_dir = \"/mnt/home2/Motor_project/AE_PETR_loziska/\"\n",
    "train_config = [{\"label\": (int(i.stem)-1)//4,\n",
    "              \"channels\": len(list(i.glob('*' + channel_1 + '.bin'))),\n",
    "              \"interval\": [0, int(4.5*sample_rate)],\n",
    "              \"bin_path\": list(i.glob('*' + channel_1 + '.bin'))[0]}\n",
    "             for i in Path(signal_data_dir).glob('*') if re.search(r'\\d$', i.stem)] + [{\n",
    "              \"label\": (int(i.stem)-1)//4,\n",
    "              \"channels\": len(list(i.glob('*' + channel_2 + '.bin'))),\n",
    "              \"interval\": [0, int(4.5*sample_rate)],\n",
    "              \"bin_path\": list(i.glob('*' + channel_2 + '.bin'))[0]}\n",
    "             for i in Path(signal_data_dir).glob('*') if re.search(r'\\d$', i.stem)]\n",
    "\n",
    "test_config = [{\"label\": (int(i.stem)-1)//4,\n",
    "              \"channels\": len(list(i.glob('*' + channel_3 + '.bin'))),\n",
    "              \"interval\": [int(4.5*sample_rate), 5*sample_rate],\n",
    "              \"bin_path\": list(i.glob('*' + channel_3 + '.bin'))[0]}\n",
    "             for i in Path(signal_data_dir).glob('*') if re.search(r'\\d$', i.stem)]"
   ],
   "id": "11207b30247782e3",
   "outputs": [],
   "execution_count": 3
  },
  {
   "metadata": {
    "ExecuteTime": {
     "end_time": "2024-06-13T06:21:35.504232Z",
     "start_time": "2024-06-13T06:21:35.463496Z"
    }
   },
   "cell_type": "code",
   "source": "train_config",
   "id": "9806fdd778434f37",
   "outputs": [
    {
     "data": {
      "text/plain": [
       "[{'label': 3,\n",
       "  'channels': 1,\n",
       "  'interval': [0, 7031250],\n",
       "  'bin_path': PosixPath('/mnt/home2/Motor_project/AE_PETR_loziska/15/AE-DATA-conti-7394086577130671-ch1.bin')},\n",
       " {'label': 2,\n",
       "  'channels': 1,\n",
       "  'interval': [0, 7031250],\n",
       "  'bin_path': PosixPath('/mnt/home2/Motor_project/AE_PETR_loziska/10/AE-DATA-conti-7394027167083912-ch1.bin')},\n",
       " {'label': 4,\n",
       "  'channels': 1,\n",
       "  'interval': [0, 7031250],\n",
       "  'bin_path': PosixPath('/mnt/home2/Motor_project/AE_PETR_loziska/18/AE-DATA-conti-7394027310105093-ch1.bin')},\n",
       " {'label': 0,\n",
       "  'channels': 1,\n",
       "  'interval': [0, 7031250],\n",
       "  'bin_path': PosixPath('/mnt/home2/Motor_project/AE_PETR_loziska/03/AE-DATA-conti-7394027077984723-ch1.bin')},\n",
       " {'label': 0,\n",
       "  'channels': 1,\n",
       "  'interval': [0, 7031250],\n",
       "  'bin_path': PosixPath('/mnt/home2/Motor_project/AE_PETR_loziska/01/AE-DATA-conti-7394027035168519-ch1.bin')},\n",
       " {'label': 4,\n",
       "  'channels': 1,\n",
       "  'interval': [0, 7031250],\n",
       "  'bin_path': PosixPath('/mnt/home2/Motor_project/AE_PETR_loziska/20/AE-DATA-conti-7394027363335532-ch1.bin')},\n",
       " {'label': 3,\n",
       "  'channels': 1,\n",
       "  'interval': [0, 7031250],\n",
       "  'bin_path': PosixPath('/mnt/home2/Motor_project/AE_PETR_loziska/16/AE-DATA-conti-7394027234228587-ch1.bin')},\n",
       " {'label': 5,\n",
       "  'channels': 1,\n",
       "  'interval': [0, 7031250],\n",
       "  'bin_path': PosixPath('/mnt/home2/Motor_project/AE_PETR_loziska/23/AE-DATA-conti-7394027398568519-ch1.bin')},\n",
       " {'label': 0,\n",
       "  'channels': 1,\n",
       "  'interval': [0, 7031250],\n",
       "  'bin_path': PosixPath('/mnt/home2/Motor_project/AE_PETR_loziska/02/AE-DATA-conti-7394027062934375-ch1.bin')},\n",
       " {'label': 1,\n",
       "  'channels': 1,\n",
       "  'interval': [0, 7031250],\n",
       "  'bin_path': PosixPath('/mnt/home2/Motor_project/AE_PETR_loziska/06/AE-DATA-conti-7394027120801042-ch1.bin')},\n",
       " {'label': 1,\n",
       "  'channels': 1,\n",
       "  'interval': [0, 7031250],\n",
       "  'bin_path': PosixPath('/mnt/home2/Motor_project/AE_PETR_loziska/07/AE-DATA-conti-7394027126597917-ch1.bin')},\n",
       " {'label': 2,\n",
       "  'channels': 1,\n",
       "  'interval': [0, 7031250],\n",
       "  'bin_path': PosixPath('/mnt/home2/Motor_project/AE_PETR_loziska/11/AE-DATA-conti-7394027172888195-ch1.bin')},\n",
       " {'label': 4,\n",
       "  'channels': 1,\n",
       "  'interval': [0, 7031250],\n",
       "  'bin_path': PosixPath('/mnt/home2/Motor_project/AE_PETR_loziska/19/AE-DATA-conti-7394027350029630-ch1.bin')},\n",
       " {'label': 3,\n",
       "  'channels': 1,\n",
       "  'interval': [0, 7031250],\n",
       "  'bin_path': PosixPath('/mnt/home2/Motor_project/AE_PETR_loziska/14/AE-DATA-conti-7394027214622801-ch1.bin')},\n",
       " {'label': 4,\n",
       "  'channels': 1,\n",
       "  'interval': [0, 7031250],\n",
       "  'bin_path': PosixPath('/mnt/home2/Motor_project/AE_PETR_loziska/17/AE-DATA-conti-7394027244110879-ch1.bin')},\n",
       " {'label': 5,\n",
       "  'channels': 1,\n",
       "  'interval': [0, 7031250],\n",
       "  'bin_path': PosixPath('/mnt/home2/Motor_project/AE_PETR_loziska/24/AE-DATA-conti-7394027404953588-ch1.bin')},\n",
       " {'label': 1,\n",
       "  'channels': 1,\n",
       "  'interval': [0, 7031250],\n",
       "  'bin_path': PosixPath('/mnt/home2/Motor_project/AE_PETR_loziska/08/AE-DATA-conti-7394027137604051-ch1.bin')},\n",
       " {'label': 1,\n",
       "  'channels': 1,\n",
       "  'interval': [0, 7031250],\n",
       "  'bin_path': PosixPath('/mnt/home2/Motor_project/AE_PETR_loziska/05/AE-DATA-conti-7394027111575579-ch1.bin')},\n",
       " {'label': 2,\n",
       "  'channels': 1,\n",
       "  'interval': [0, 7031250],\n",
       "  'bin_path': PosixPath('/mnt/home2/Motor_project/AE_PETR_loziska/12/AE-DATA-conti-7394027190255902-ch1.bin')},\n",
       " {'label': 3,\n",
       "  'channels': 1,\n",
       "  'interval': [0, 7031250],\n",
       "  'bin_path': PosixPath('/mnt/home2/Motor_project/AE_PETR_loziska/13/AE-DATA-conti-7394027202411921-ch1.bin')},\n",
       " {'label': 2,\n",
       "  'channels': 1,\n",
       "  'interval': [0, 7031250],\n",
       "  'bin_path': PosixPath('/mnt/home2/Motor_project/AE_PETR_loziska/09/AE-DATA-conti-7394027147446180-ch1.bin')},\n",
       " {'label': 3,\n",
       "  'channels': 1,\n",
       "  'interval': [0, 7031250],\n",
       "  'bin_path': PosixPath('/mnt/home2/Motor_project/AE_PETR_loziska/15/AE-DATA-conti-7394086393685417-ch2.bin')},\n",
       " {'label': 2,\n",
       "  'channels': 1,\n",
       "  'interval': [0, 7031250],\n",
       "  'bin_path': PosixPath('/mnt/home2/Motor_project/AE_PETR_loziska/10/AE-DATA-conti-7394086337554861-ch2.bin')},\n",
       " {'label': 4,\n",
       "  'channels': 1,\n",
       "  'interval': [0, 7031250],\n",
       "  'bin_path': PosixPath('/mnt/home2/Motor_project/AE_PETR_loziska/18/AE-DATA-conti-7394086460823726-ch2.bin')},\n",
       " {'label': 0,\n",
       "  'channels': 1,\n",
       "  'interval': [0, 7031250],\n",
       "  'bin_path': PosixPath('/mnt/home2/Motor_project/AE_PETR_loziska/03/AE-DATA-conti-7394086206784837-ch2.bin')},\n",
       " {'label': 0,\n",
       "  'channels': 1,\n",
       "  'interval': [0, 7031250],\n",
       "  'bin_path': PosixPath('/mnt/home2/Motor_project/AE_PETR_loziska/01/AE-DATA-conti-7394086155829862-ch2.bin')},\n",
       " {'label': 4,\n",
       "  'channels': 1,\n",
       "  'interval': [0, 7031250],\n",
       "  'bin_path': PosixPath('/mnt/home2/Motor_project/AE_PETR_loziska/20/AE-DATA-conti-7394086490908796-ch2.bin')},\n",
       " {'label': 3,\n",
       "  'channels': 1,\n",
       "  'interval': [0, 7031250],\n",
       "  'bin_path': PosixPath('/mnt/home2/Motor_project/AE_PETR_loziska/16/AE-DATA-conti-7394086402945718-ch2.bin')},\n",
       " {'label': 5,\n",
       "  'channels': 1,\n",
       "  'interval': [0, 7031250],\n",
       "  'bin_path': PosixPath('/mnt/home2/Motor_project/AE_PETR_loziska/23/AE-DATA-conti-7394086536615625-ch2.bin')},\n",
       " {'label': 0,\n",
       "  'channels': 1,\n",
       "  'interval': [0, 7031250],\n",
       "  'bin_path': PosixPath('/mnt/home2/Motor_project/AE_PETR_loziska/02/AE-DATA-conti-7394086180704283-ch2.bin')},\n",
       " {'label': 1,\n",
       "  'channels': 1,\n",
       "  'interval': [0, 7031250],\n",
       "  'bin_path': PosixPath('/mnt/home2/Motor_project/AE_PETR_loziska/06/AE-DATA-conti-7394086239736805-ch2.bin')},\n",
       " {'label': 1,\n",
       "  'channels': 1,\n",
       "  'interval': [0, 7031250],\n",
       "  'bin_path': PosixPath('/mnt/home2/Motor_project/AE_PETR_loziska/07/AE-DATA-conti-7394086282009259-ch2.bin')},\n",
       " {'label': 2,\n",
       "  'channels': 1,\n",
       "  'interval': [0, 7031250],\n",
       "  'bin_path': PosixPath('/mnt/home2/Motor_project/AE_PETR_loziska/11/AE-DATA-conti-7394086346810417-ch2.bin')},\n",
       " {'label': 4,\n",
       "  'channels': 1,\n",
       "  'interval': [0, 7031250],\n",
       "  'bin_path': PosixPath('/mnt/home2/Motor_project/AE_PETR_loziska/19/AE-DATA-conti-7394086478736111-ch2.bin')},\n",
       " {'label': 3,\n",
       "  'channels': 1,\n",
       "  'interval': [0, 7031250],\n",
       "  'bin_path': PosixPath('/mnt/home2/Motor_project/AE_PETR_loziska/14/AE-DATA-conti-7394086378610649-ch2.bin')},\n",
       " {'label': 4,\n",
       "  'channels': 1,\n",
       "  'interval': [0, 7031250],\n",
       "  'bin_path': PosixPath('/mnt/home2/Motor_project/AE_PETR_loziska/17/AE-DATA-conti-7394086415141319-ch2.bin')},\n",
       " {'label': 5,\n",
       "  'channels': 1,\n",
       "  'interval': [0, 7031250],\n",
       "  'bin_path': PosixPath('/mnt/home2/Motor_project/AE_PETR_loziska/24/AE-DATA-conti-7394086550522107-ch2.bin')},\n",
       " {'label': 1,\n",
       "  'channels': 1,\n",
       "  'interval': [0, 7031250],\n",
       "  'bin_path': PosixPath('/mnt/home2/Motor_project/AE_PETR_loziska/08/AE-DATA-conti-7394086298167824-ch2.bin')},\n",
       " {'label': 1,\n",
       "  'channels': 1,\n",
       "  'interval': [0, 7031250],\n",
       "  'bin_path': PosixPath('/mnt/home2/Motor_project/AE_PETR_loziska/05/AE-DATA-conti-7394086224132176-ch2.bin')},\n",
       " {'label': 2,\n",
       "  'channels': 1,\n",
       "  'interval': [0, 7031250],\n",
       "  'bin_path': PosixPath('/mnt/home2/Motor_project/AE_PETR_loziska/12/AE-DATA-conti-7394086355473726-ch2.bin')},\n",
       " {'label': 3,\n",
       "  'channels': 1,\n",
       "  'interval': [0, 7031250],\n",
       "  'bin_path': PosixPath('/mnt/home2/Motor_project/AE_PETR_loziska/13/AE-DATA-conti-7394086367630209-ch2.bin')},\n",
       " {'label': 2,\n",
       "  'channels': 1,\n",
       "  'interval': [0, 7031250],\n",
       "  'bin_path': PosixPath('/mnt/home2/Motor_project/AE_PETR_loziska/09/AE-DATA-conti-7394086318426388-ch2.bin')}]"
      ]
     },
     "execution_count": 7,
     "metadata": {},
     "output_type": "execute_result"
    }
   ],
   "execution_count": 7
  },
  {
   "metadata": {
    "ExecuteTime": {
     "end_time": "2024-06-13T06:21:13.178114Z",
     "start_time": "2024-06-13T06:21:11.129058Z"
    }
   },
   "cell_type": "code",
   "source": [
    "train_set = SignalDataset(step=1000, window_size=1000, bin_setup=train_config, source_dtype=\"float32\")\n",
    "test_set = SignalDataset(step=1000, window_size=1000, bin_setup=test_config, source_dtype=\"float32\")"
   ],
   "id": "be6b8bfa0dde24d3",
   "outputs": [],
   "execution_count": 4
  },
  {
   "metadata": {
    "ExecuteTime": {
     "end_time": "2024-06-13T06:21:20.284353Z",
     "start_time": "2024-06-13T06:21:20.243153Z"
    }
   },
   "cell_type": "code",
   "source": "len(train_set)",
   "id": "a8ca5c951a4f9888",
   "outputs": [
    {
     "data": {
      "text/plain": [
       "295302"
      ]
     },
     "execution_count": 6,
     "metadata": {},
     "output_type": "execute_result"
    }
   ],
   "execution_count": 6
  },
  {
   "metadata": {},
   "cell_type": "code",
   "outputs": [],
   "execution_count": null,
   "source": [
    "nn_config[\"training_params\"][\"lr\"] = config[\"lr\"]\n",
    "nn_config[\"training_params\"][\"dataloader_params\"][\"batch_size\"] = config[\"batch_size\"]\n",
    "update_layer_argument(nn_config, 'linear1', 'out_features', config['linear1'])\n",
    "update_layer_argument(nn_config, 'linear2', 'in_features', config['linear1'])\n",
    "update_layer_argument(nn_config, 'linear2', 'out_features', config['linear2'])\n",
    "update_layer_argument(nn_config, 'linear3', 'in_features', config['linear2'])\n",
    "\n",
    "\n",
    "config = {\n",
    "    \"lstm\": {\n",
    "        \"hidden_size\": tune.randint(128,1500),\n",
    "        \"num_layers\": tune.choice([1, 2, 3])},\n",
    "    \"linear1\": tune.randint(512,2000),\n",
    "    \"linear2\": tune.randint(200, 1500),\n",
    "    \"lr\": tune.uniform(1e-4, 1e-1),\n",
    "    \"warmups\": tune.choice([1, 2, 3]),\n",
    "    \"dropout\": tune.uniform(0, 0.5),\n",
    "    \"batch_size\": tune.choice([128, 256, 512, 1024]),\n",
    "    \"epoch_num\": tune.choice([5, 10, 15, 20, 40]),\n",
    "    \"window_size\" : tune.randint(500, 1000000),\n",
    "}"
   ],
   "id": "61b47b1f744011d4"
  },
  {
   "metadata": {},
   "cell_type": "code",
   "outputs": [],
   "execution_count": null,
   "source": [
    "config = {\n",
    "    \"linear1\": tune.choice([2 ** i for i in range(10, 14)]),\n",
    "    \"linear2\": tune.choice([2 ** i for i in range(8, 12)]),\n",
    "    \"lr\": tune.loguniform(1e-4, 1e-2),\n",
    "    \"batch_size\": tune.choice([128, 256, 512])\n",
    "}"
   ],
   "id": "9e3ec51b0937e2f7"
  },
  {
   "metadata": {
    "ExecuteTime": {
     "end_time": "2024-06-10T12:33:38.297641Z",
     "start_time": "2024-06-10T12:33:38.264658Z"
    }
   },
   "cell_type": "code",
   "source": "nn_config = load_yaml(Path(\"nn_yaml_configs/CNN_spec.yaml\"))",
   "id": "a8d3c3d6f8af360a",
   "outputs": [],
   "execution_count": 5
  },
  {
   "metadata": {
    "ExecuteTime": {
     "end_time": "2024-06-10T12:33:39.458843Z",
     "start_time": "2024-06-10T12:33:39.426252Z"
    }
   },
   "cell_type": "code",
   "source": [
    "def update_layer_argument(nn_config: dict, layer_id: str, arg: str, value):\n",
    "    layers_configs = nn_config[\"model\"][\"kwargs\"][\"layers\"]\n",
    "    if isinstance(layers_configs, list):\n",
    "        for layer in layers_configs:\n",
    "            if layer.get(\"id\") == layer_id:\n",
    "                layer[\"kwargs\"][arg] = value\n",
    "\n",
    "    elif isinstance(layers_configs, dict):\n",
    "        for name, layer_config in layers_configs.items():\n",
    "            for layer in layer_config:\n",
    "                if layer.get(\"id\") == layer_id:\n",
    "                    layer[\"kwargs\"][arg] = value"
   ],
   "id": "bb43479ae78bc58c",
   "outputs": [],
   "execution_count": 6
  },
  {
   "metadata": {},
   "cell_type": "code",
   "outputs": [],
   "execution_count": null,
   "source": [
    "    update_layer_argument(nn_config, 'conv1', 'out_channels', config['first_conv'])\n",
    "    # update_layer_argument(nn_config, 'conv1', 'kernel_size', config['kernel_size'])\n",
    "    # update_layer_argument(nn_config, 'conv1', 'padding', config['kernel_size'] // 2)\n",
    "\n",
    "    update_layer_argument(nn_config, 'bn1', 'num_features', config['first_conv'])\n",
    "\n",
    "    update_layer_argument(nn_config, 'conv2', 'in_channels', config['first_conv'])\n",
    "    update_layer_argument(nn_config, 'conv2', 'out_channels', config['second_conv'])\n",
    "    # update_layer_argument(nn_config, 'conv2', 'kernel_size', config['kernel_size'])\n",
    "    # update_layer_argument(nn_config, 'conv2', 'padding', config['kernel_size'] // 2)\n",
    "\n",
    "    update_layer_argument(nn_config, 'bn2', 'num_features', config['second_conv'])\n",
    "\n",
    "    update_layer_argument(nn_config, 'conv3', 'in_channels', config['second_conv'])\n",
    "    # update_layer_argument(nn_config, 'conv3', 'kernel_size', config['kernel_size'])\n",
    "    # update_layer_argument(nn_config, 'conv3', 'padding', config['kernel_size'] // 2)\n",
    "    update_layer_argument(nn_config, 'conv3', 'out_channels', config['third_conv'])"
   ],
   "id": "a28258fa75fdd317"
  },
  {
   "metadata": {
    "ExecuteTime": {
     "end_time": "2024-06-10T09:50:58.527722Z",
     "start_time": "2024-06-10T09:50:58.503725Z"
    }
   },
   "cell_type": "code",
   "source": [
    "out_channel_values_first = [32, 64, 128]\n",
    "out_channel_values_second = [64, 128, 256]\n",
    "kernel_sizes = [3, 5]\n",
    "\n",
    "# Iterating through the parameters\n",
    "for out_channels1 in out_channel_values_first:\n",
    "    for out_channels2 in out_channel_values_second:\n",
    "        for kernel_size1 in kernel_sizes:\n",
    "            for kernel_size2 in kernel_sizes:\n",
    "                for kernel_size3 in kernel_sizes:\n",
    "                    # Update the configuration for the current combination of parameters\n",
    "                    update_layer_argument(nn_config, 'conv1', 'out_channels', out_channels1)\n",
    "                    update_layer_argument(nn_config, 'conv1', 'kernel_size', kernel_size1)\n",
    "                    update_layer_argument(nn_config, 'conv1', 'padding', kernel_size1 // 2)\n",
    "                    \n",
    "                    update_layer_argument(nn_config, 'bn1', 'num_features', out_channels1)\n",
    "                    \n",
    "                    update_layer_argument(nn_config, 'conv2', 'out_channels', out_channels2)\n",
    "                    update_layer_argument(nn_config, 'conv2', 'kernel_size', kernel_size2)\n",
    "                    update_layer_argument(nn_config, 'conv2', 'padding', kernel_size2 // 2)\n",
    "                    update_layer_argument(nn_config, 'conv2', 'in_channels', out_channels1)\n",
    "                    \n",
    "                    update_layer_argument(nn_config, 'bn2', 'num_features', out_channels2)\n",
    "                    \n",
    "                    update_layer_argument(nn_config, 'conv3', 'kernel_size', kernel_size3)\n",
    "                    update_layer_argument(nn_config, 'conv3', 'padding', kernel_size3 // 2)\n",
    "                    update_layer_argument(nn_config, 'conv3', 'in_channels', out_channels2)\n",
    "                    neuro_net = NeuroNet(config=nn_config, tensorboard=True)\n",
    "                    neuro_net.train(train_set)"
   ],
   "id": "7cc9aaf67fd5b3c4",
   "outputs": [],
   "execution_count": 14
  },
  {
   "metadata": {
    "ExecuteTime": {
     "end_time": "2024-06-10T13:01:13.564870Z",
     "start_time": "2024-06-10T13:01:13.473912Z"
    }
   },
   "cell_type": "code",
   "source": [
    "def train_model(config, dataset):\n",
    "    update_layer_argument(nn_config, 'conv1', 'out_channels', config['first_conv'])\n",
    "    # update_layer_argument(nn_config, 'conv1', 'kernel_size', config['kernel_size'])\n",
    "    # update_layer_argument(nn_config, 'conv1', 'padding', config['kernel_size'] // 2)\n",
    "    \n",
    "    update_layer_argument(nn_config, 'bn1', 'num_features', config['first_conv'])\n",
    "    \n",
    "    update_layer_argument(nn_config, 'conv2', 'in_channels', config['first_conv'])\n",
    "    update_layer_argument(nn_config, 'conv2', 'out_channels', config['second_conv'])\n",
    "    # update_layer_argument(nn_config, 'conv2', 'kernel_size', config['kernel_size'])\n",
    "    # update_layer_argument(nn_config, 'conv2', 'padding', config['kernel_size'] // 2)\n",
    "\n",
    "    update_layer_argument(nn_config, 'bn2', 'num_features', config['second_conv'])\n",
    "    \n",
    "    update_layer_argument(nn_config, 'conv3', 'in_channels', config['second_conv'])   \n",
    "    # update_layer_argument(nn_config, 'conv3', 'kernel_size', config['kernel_size'])\n",
    "    # update_layer_argument(nn_config, 'conv3', 'padding', config['kernel_size'] // 2)\n",
    "    update_layer_argument(nn_config, 'conv3', 'out_channels', config['third_conv'])\n",
    "\n",
    "    neuro_net = NeuroNet(config=nn_config, tensorboard=True)\n",
    "    neuro_net.train(dataset)"
   ],
   "id": "6ed6f966bcefce72",
   "outputs": [],
   "execution_count": 15
  },
  {
   "metadata": {},
   "cell_type": "code",
   "outputs": [],
   "execution_count": null,
   "source": [
    "class model_optimizer():\n",
    "    def __init__(self, model: SignalModel):\n",
    "        pass\n",
    "    def load_params(self, params_grid: dict):\n",
    "        self.params = params_grid"
   ],
   "id": "3e4968423e9c314d"
  }
 ],
 "metadata": {
  "kernelspec": {
   "display_name": "Python 3",
   "language": "python",
   "name": "python3"
  },
  "language_info": {
   "codemirror_mode": {
    "name": "ipython",
    "version": 2
   },
   "file_extension": ".py",
   "mimetype": "text/x-python",
   "name": "python",
   "nbconvert_exporter": "python",
   "pygments_lexer": "ipython2",
   "version": "2.7.6"
  }
 },
 "nbformat": 4,
 "nbformat_minor": 5
}
